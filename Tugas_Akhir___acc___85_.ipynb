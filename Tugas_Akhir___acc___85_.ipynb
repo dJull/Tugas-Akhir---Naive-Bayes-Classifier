{
  "nbformat": 4,
  "nbformat_minor": 0,
  "metadata": {
    "colab": {
      "provenance": []
    },
    "kernelspec": {
      "name": "python3",
      "display_name": "Python 3"
    },
    "language_info": {
      "name": "python"
    }
  },
  "cells": [
    {
      "cell_type": "markdown",
      "source": [
        "#Import Library"
      ],
      "metadata": {
        "id": "HR-dTRg54a3B"
      }
    },
    {
      "cell_type": "code",
      "source": [
        "!pip install pydotplus"
      ],
      "metadata": {
        "colab": {
          "base_uri": "https://localhost:8080/"
        },
        "id": "qbDOckzAtT1Q",
        "outputId": "fcad01f9-6c8b-4030-9793-82df76b1f128"
      },
      "execution_count": null,
      "outputs": [
        {
          "output_type": "stream",
          "name": "stdout",
          "text": [
            "Requirement already satisfied: pydotplus in /usr/local/lib/python3.10/dist-packages (2.0.2)\n",
            "Requirement already satisfied: pyparsing>=2.0.1 in /usr/local/lib/python3.10/dist-packages (from pydotplus) (3.1.0)\n"
          ]
        }
      ]
    },
    {
      "cell_type": "code",
      "execution_count": null,
      "metadata": {
        "id": "GqNUcJXZkfrQ"
      },
      "outputs": [],
      "source": [
        "import pandas as pd\n",
        "import numpy as np\n",
        "import matplotlib.pyplot as plt\n",
        "import scipy.stats as ss\n",
        "%matplotlib inline\n",
        "import seaborn as sns\n",
        "from sklearn.preprocessing import LabelEncoder\n",
        "from sklearn.model_selection import train_test_split\n",
        "from sklearn.impute import SimpleImputer\n",
        "from sklearn.preprocessing import MinMaxScaler, StandardScaler,RobustScaler\n",
        "from sklearn.model_selection import GridSearchCV\n",
        "from sklearn.pipeline import Pipeline\n",
        "from sklearn.compose import ColumnTransformer\n",
        "from sklearn.compose import ColumnTransformer\n",
        "from sklearn.metrics import auc,roc_curve, roc_auc_score, confusion_matrix, accuracy_score, classification_report,precision_score, recall_score, RocCurveDisplay, f1_score, roc_auc_score,mean_squared_error\n",
        "from sklearn.naive_bayes import GaussianNB\n",
        "from sklearn.linear_model import LogisticRegression\n",
        "from sklearn.neighbors import KNeighborsClassifier\n",
        "from sklearn.tree import DecisionTreeClassifier\n",
        "from sklearn.ensemble import RandomForestClassifier, AdaBoostClassifier, VotingClassifier\n",
        "from xgboost import XGBClassifier, plot_importance\n",
        "from sklearn.decomposition import PCA\n",
        "from sklearn.preprocessing import label_binarize\n",
        "from sklearn.tree import export_graphviz\n",
        "from six import StringIO\n",
        "from IPython.display import Image\n",
        "import pydotplus"
      ]
    },
    {
      "cell_type": "markdown",
      "source": [
        "#Import Data"
      ],
      "metadata": {
        "id": "hl_N6oOc4VER"
      }
    },
    {
      "cell_type": "code",
      "source": [
        "from google.colab import drive\n",
        "drive.mount('/content/drive')"
      ],
      "metadata": {
        "colab": {
          "base_uri": "https://localhost:8080/"
        },
        "id": "jTyy5UTYlUwJ",
        "outputId": "48ae3f73-73cb-4130-c614-7a2a1534e5e5"
      },
      "execution_count": null,
      "outputs": [
        {
          "output_type": "stream",
          "name": "stdout",
          "text": [
            "Drive already mounted at /content/drive; to attempt to forcibly remount, call drive.mount(\"/content/drive\", force_remount=True).\n"
          ]
        }
      ]
    },
    {
      "cell_type": "code",
      "source": [
        "data = pd.read_csv(\"/content/drive/MyDrive/Dataset TA/LoanData_Bondora.csv\")\n",
        "data"
      ],
      "metadata": {
        "colab": {
          "base_uri": "https://localhost:8080/",
          "height": 1000
        },
        "id": "ex62TrNflZEr",
        "outputId": "edd4e173-f121-49c6-c577-a864ad428e6b"
      },
      "execution_count": null,
      "outputs": [
        {
          "output_type": "stream",
          "name": "stderr",
          "text": [
            "<ipython-input-187-8994d9ed4b5c>:1: DtypeWarning: Columns (34,38,80,82,83,89,90) have mixed types. Specify dtype option on import or set low_memory=False.\n",
            "  data = pd.read_csv(\"/content/drive/MyDrive/Dataset TA/LoanData_Bondora.csv\")\n"
          ]
        },
        {
          "output_type": "execute_result",
          "data": {
            "text/plain": [
              "       ReportAsOfEOD                                LoanId  LoanNumber  \\\n",
              "0         2021-07-20  66AE108B-532B-4BB3-BAB7-0019A46412C1      483449   \n",
              "1         2021-07-20  D152382E-A50D-46ED-8FF2-0053E0C86A70      378148   \n",
              "2         2021-07-20  87342E13-66CB-483F-833A-007953E50C78      451831   \n",
              "3         2021-07-20  87227056-6BF9-410C-98D1-008F788E122A      349381   \n",
              "4         2021-07-20  2DDE6336-E466-4624-A337-00A0ED1A1468      443082   \n",
              "...              ...                                   ...         ...   \n",
              "179230    2021-07-20  D9E714C3-B9B8-4FD1-B1AD-FF55B3AE8A8F      323749   \n",
              "179231    2021-07-20  09999223-3D69-42E3-BAAA-FF7F312AB236      468598   \n",
              "179232    2021-07-20  370193A5-D19C-4A99-97F7-FF95BEA52731      462572   \n",
              "179233    2021-07-20  98D9FCCE-0FD7-420E-9F7F-FFA960669E8B      396046   \n",
              "179234    2021-07-20  65C924CD-8AAF-4ECC-9C8F-FFB0C5722CBB      374840   \n",
              "\n",
              "                ListedOnUTC     BiddingStartedOn  BidsPortfolioManager  \\\n",
              "0       2016-03-23 16:07:19  2016-03-23 16:07:19                   970   \n",
              "1       2015-06-25 11:02:28  2015-06-25 11:02:28                  1295   \n",
              "2       2016-01-14 10:00:21  2016-01-14 10:00:21                  2700   \n",
              "3       2015-03-24 15:55:44  2015-03-24 15:55:44                  1115   \n",
              "4       2015-12-17 10:12:00  2015-12-17 10:12:00                   305   \n",
              "...                     ...                  ...                   ...   \n",
              "179230  2015-03-02 07:07:05  2015-03-02 07:07:05                  2000   \n",
              "179231  2016-02-17 10:17:35  2016-02-17 10:17:35                  6215   \n",
              "179232  2016-02-05 09:35:26  2016-02-05 09:35:26                   430   \n",
              "179233  2015-08-17 17:23:05  2015-08-17 17:23:05                  3000   \n",
              "179234  2015-06-15 10:22:34  2015-06-15 10:22:34                     0   \n",
              "\n",
              "        BidsApi  BidsManual   UserName  NewCreditCustomer  ...  \\\n",
              "0          1150         5.0   BO965519              False  ...   \n",
              "1             0      1705.0  BOA9K172A              False  ...   \n",
              "2           565      5835.0  BO7971663               True  ...   \n",
              "3             0       385.0  BO76151K3               True  ...   \n",
              "4             0       785.0  BOK423A63               True  ...   \n",
              "...         ...         ...        ...                ...  ...   \n",
              "179230        0         0.0  BO6492A4A               True  ...   \n",
              "179231       70      1155.0  BO542A57A              False  ...   \n",
              "179232        0      1055.0   BO65A965              False  ...   \n",
              "179233        0         0.0  BO9577433               True  ...   \n",
              "179234        0      1300.0    avo1007              False  ...   \n",
              "\n",
              "       PreviousEarlyRepaymentsCountBeforeLoan GracePeriodStart GracePeriodEnd  \\\n",
              "0                                         0.0       2019-10-28     2020-01-27   \n",
              "1                                         1.0              NaN            NaN   \n",
              "2                                         0.0              NaN            NaN   \n",
              "3                                         1.0              NaN            NaN   \n",
              "4                                         0.0              NaN            NaN   \n",
              "...                                       ...              ...            ...   \n",
              "179230                                    0.0              NaN            NaN   \n",
              "179231                                    0.0              NaN            NaN   \n",
              "179232                                    1.0              NaN            NaN   \n",
              "179233                                    0.0              NaN            NaN   \n",
              "179234                                    2.0       2016-04-27     2017-04-27   \n",
              "\n",
              "       NextPaymentDate NextPaymentNr NrOfScheduledPayments  ReScheduledOn  \\\n",
              "0                  NaN           NaN                   NaN            NaN   \n",
              "1                  NaN           NaN                   NaN            NaN   \n",
              "2                  NaN           NaN                   NaN            NaN   \n",
              "3                  NaN           NaN                   NaN            NaN   \n",
              "4                  NaN           NaN                   NaN            NaN   \n",
              "...                ...           ...                   ...            ...   \n",
              "179230             NaN           NaN                   NaN            NaN   \n",
              "179231             NaN           NaN                   NaN            NaN   \n",
              "179232             NaN           NaN                   NaN            NaN   \n",
              "179233             NaN           NaN                   NaN            NaN   \n",
              "179234             NaN           NaN                   NaN            NaN   \n",
              "\n",
              "        PrincipalDebtServicingCost  InterestAndPenaltyDebtServicingCost  \\\n",
              "0                             0.00                                51.73   \n",
              "1                             0.00                                47.08   \n",
              "2                           259.67                              1659.60   \n",
              "3                             0.00                               215.05   \n",
              "4                             0.00                                 0.00   \n",
              "...                            ...                                  ...   \n",
              "179230                        0.00                                18.38   \n",
              "179231                        0.00                                 0.00   \n",
              "179232                        0.00                                 0.00   \n",
              "179233                        0.00                                 0.00   \n",
              "179234                        0.00                                 2.64   \n",
              "\n",
              "        ActiveLateLastPaymentCategory  \n",
              "0                               31-60  \n",
              "1                                180+  \n",
              "2                                180+  \n",
              "3                                180+  \n",
              "4                                180+  \n",
              "...                               ...  \n",
              "179230                           180+  \n",
              "179231                            NaN  \n",
              "179232                            NaN  \n",
              "179233                            NaN  \n",
              "179234                           180+  \n",
              "\n",
              "[179235 rows x 112 columns]"
            ],
            "text/html": [
              "\n",
              "  <div id=\"df-6e9605b7-eebf-4297-8ff0-bbfead8c8e10\">\n",
              "    <div class=\"colab-df-container\">\n",
              "      <div>\n",
              "<style scoped>\n",
              "    .dataframe tbody tr th:only-of-type {\n",
              "        vertical-align: middle;\n",
              "    }\n",
              "\n",
              "    .dataframe tbody tr th {\n",
              "        vertical-align: top;\n",
              "    }\n",
              "\n",
              "    .dataframe thead th {\n",
              "        text-align: right;\n",
              "    }\n",
              "</style>\n",
              "<table border=\"1\" class=\"dataframe\">\n",
              "  <thead>\n",
              "    <tr style=\"text-align: right;\">\n",
              "      <th></th>\n",
              "      <th>ReportAsOfEOD</th>\n",
              "      <th>LoanId</th>\n",
              "      <th>LoanNumber</th>\n",
              "      <th>ListedOnUTC</th>\n",
              "      <th>BiddingStartedOn</th>\n",
              "      <th>BidsPortfolioManager</th>\n",
              "      <th>BidsApi</th>\n",
              "      <th>BidsManual</th>\n",
              "      <th>UserName</th>\n",
              "      <th>NewCreditCustomer</th>\n",
              "      <th>...</th>\n",
              "      <th>PreviousEarlyRepaymentsCountBeforeLoan</th>\n",
              "      <th>GracePeriodStart</th>\n",
              "      <th>GracePeriodEnd</th>\n",
              "      <th>NextPaymentDate</th>\n",
              "      <th>NextPaymentNr</th>\n",
              "      <th>NrOfScheduledPayments</th>\n",
              "      <th>ReScheduledOn</th>\n",
              "      <th>PrincipalDebtServicingCost</th>\n",
              "      <th>InterestAndPenaltyDebtServicingCost</th>\n",
              "      <th>ActiveLateLastPaymentCategory</th>\n",
              "    </tr>\n",
              "  </thead>\n",
              "  <tbody>\n",
              "    <tr>\n",
              "      <th>0</th>\n",
              "      <td>2021-07-20</td>\n",
              "      <td>66AE108B-532B-4BB3-BAB7-0019A46412C1</td>\n",
              "      <td>483449</td>\n",
              "      <td>2016-03-23 16:07:19</td>\n",
              "      <td>2016-03-23 16:07:19</td>\n",
              "      <td>970</td>\n",
              "      <td>1150</td>\n",
              "      <td>5.0</td>\n",
              "      <td>BO965519</td>\n",
              "      <td>False</td>\n",
              "      <td>...</td>\n",
              "      <td>0.0</td>\n",
              "      <td>2019-10-28</td>\n",
              "      <td>2020-01-27</td>\n",
              "      <td>NaN</td>\n",
              "      <td>NaN</td>\n",
              "      <td>NaN</td>\n",
              "      <td>NaN</td>\n",
              "      <td>0.00</td>\n",
              "      <td>51.73</td>\n",
              "      <td>31-60</td>\n",
              "    </tr>\n",
              "    <tr>\n",
              "      <th>1</th>\n",
              "      <td>2021-07-20</td>\n",
              "      <td>D152382E-A50D-46ED-8FF2-0053E0C86A70</td>\n",
              "      <td>378148</td>\n",
              "      <td>2015-06-25 11:02:28</td>\n",
              "      <td>2015-06-25 11:02:28</td>\n",
              "      <td>1295</td>\n",
              "      <td>0</td>\n",
              "      <td>1705.0</td>\n",
              "      <td>BOA9K172A</td>\n",
              "      <td>False</td>\n",
              "      <td>...</td>\n",
              "      <td>1.0</td>\n",
              "      <td>NaN</td>\n",
              "      <td>NaN</td>\n",
              "      <td>NaN</td>\n",
              "      <td>NaN</td>\n",
              "      <td>NaN</td>\n",
              "      <td>NaN</td>\n",
              "      <td>0.00</td>\n",
              "      <td>47.08</td>\n",
              "      <td>180+</td>\n",
              "    </tr>\n",
              "    <tr>\n",
              "      <th>2</th>\n",
              "      <td>2021-07-20</td>\n",
              "      <td>87342E13-66CB-483F-833A-007953E50C78</td>\n",
              "      <td>451831</td>\n",
              "      <td>2016-01-14 10:00:21</td>\n",
              "      <td>2016-01-14 10:00:21</td>\n",
              "      <td>2700</td>\n",
              "      <td>565</td>\n",
              "      <td>5835.0</td>\n",
              "      <td>BO7971663</td>\n",
              "      <td>True</td>\n",
              "      <td>...</td>\n",
              "      <td>0.0</td>\n",
              "      <td>NaN</td>\n",
              "      <td>NaN</td>\n",
              "      <td>NaN</td>\n",
              "      <td>NaN</td>\n",
              "      <td>NaN</td>\n",
              "      <td>NaN</td>\n",
              "      <td>259.67</td>\n",
              "      <td>1659.60</td>\n",
              "      <td>180+</td>\n",
              "    </tr>\n",
              "    <tr>\n",
              "      <th>3</th>\n",
              "      <td>2021-07-20</td>\n",
              "      <td>87227056-6BF9-410C-98D1-008F788E122A</td>\n",
              "      <td>349381</td>\n",
              "      <td>2015-03-24 15:55:44</td>\n",
              "      <td>2015-03-24 15:55:44</td>\n",
              "      <td>1115</td>\n",
              "      <td>0</td>\n",
              "      <td>385.0</td>\n",
              "      <td>BO76151K3</td>\n",
              "      <td>True</td>\n",
              "      <td>...</td>\n",
              "      <td>1.0</td>\n",
              "      <td>NaN</td>\n",
              "      <td>NaN</td>\n",
              "      <td>NaN</td>\n",
              "      <td>NaN</td>\n",
              "      <td>NaN</td>\n",
              "      <td>NaN</td>\n",
              "      <td>0.00</td>\n",
              "      <td>215.05</td>\n",
              "      <td>180+</td>\n",
              "    </tr>\n",
              "    <tr>\n",
              "      <th>4</th>\n",
              "      <td>2021-07-20</td>\n",
              "      <td>2DDE6336-E466-4624-A337-00A0ED1A1468</td>\n",
              "      <td>443082</td>\n",
              "      <td>2015-12-17 10:12:00</td>\n",
              "      <td>2015-12-17 10:12:00</td>\n",
              "      <td>305</td>\n",
              "      <td>0</td>\n",
              "      <td>785.0</td>\n",
              "      <td>BOK423A63</td>\n",
              "      <td>True</td>\n",
              "      <td>...</td>\n",
              "      <td>0.0</td>\n",
              "      <td>NaN</td>\n",
              "      <td>NaN</td>\n",
              "      <td>NaN</td>\n",
              "      <td>NaN</td>\n",
              "      <td>NaN</td>\n",
              "      <td>NaN</td>\n",
              "      <td>0.00</td>\n",
              "      <td>0.00</td>\n",
              "      <td>180+</td>\n",
              "    </tr>\n",
              "    <tr>\n",
              "      <th>...</th>\n",
              "      <td>...</td>\n",
              "      <td>...</td>\n",
              "      <td>...</td>\n",
              "      <td>...</td>\n",
              "      <td>...</td>\n",
              "      <td>...</td>\n",
              "      <td>...</td>\n",
              "      <td>...</td>\n",
              "      <td>...</td>\n",
              "      <td>...</td>\n",
              "      <td>...</td>\n",
              "      <td>...</td>\n",
              "      <td>...</td>\n",
              "      <td>...</td>\n",
              "      <td>...</td>\n",
              "      <td>...</td>\n",
              "      <td>...</td>\n",
              "      <td>...</td>\n",
              "      <td>...</td>\n",
              "      <td>...</td>\n",
              "      <td>...</td>\n",
              "    </tr>\n",
              "    <tr>\n",
              "      <th>179230</th>\n",
              "      <td>2021-07-20</td>\n",
              "      <td>D9E714C3-B9B8-4FD1-B1AD-FF55B3AE8A8F</td>\n",
              "      <td>323749</td>\n",
              "      <td>2015-03-02 07:07:05</td>\n",
              "      <td>2015-03-02 07:07:05</td>\n",
              "      <td>2000</td>\n",
              "      <td>0</td>\n",
              "      <td>0.0</td>\n",
              "      <td>BO6492A4A</td>\n",
              "      <td>True</td>\n",
              "      <td>...</td>\n",
              "      <td>0.0</td>\n",
              "      <td>NaN</td>\n",
              "      <td>NaN</td>\n",
              "      <td>NaN</td>\n",
              "      <td>NaN</td>\n",
              "      <td>NaN</td>\n",
              "      <td>NaN</td>\n",
              "      <td>0.00</td>\n",
              "      <td>18.38</td>\n",
              "      <td>180+</td>\n",
              "    </tr>\n",
              "    <tr>\n",
              "      <th>179231</th>\n",
              "      <td>2021-07-20</td>\n",
              "      <td>09999223-3D69-42E3-BAAA-FF7F312AB236</td>\n",
              "      <td>468598</td>\n",
              "      <td>2016-02-17 10:17:35</td>\n",
              "      <td>2016-02-17 10:17:35</td>\n",
              "      <td>6215</td>\n",
              "      <td>70</td>\n",
              "      <td>1155.0</td>\n",
              "      <td>BO542A57A</td>\n",
              "      <td>False</td>\n",
              "      <td>...</td>\n",
              "      <td>0.0</td>\n",
              "      <td>NaN</td>\n",
              "      <td>NaN</td>\n",
              "      <td>NaN</td>\n",
              "      <td>NaN</td>\n",
              "      <td>NaN</td>\n",
              "      <td>NaN</td>\n",
              "      <td>0.00</td>\n",
              "      <td>0.00</td>\n",
              "      <td>NaN</td>\n",
              "    </tr>\n",
              "    <tr>\n",
              "      <th>179232</th>\n",
              "      <td>2021-07-20</td>\n",
              "      <td>370193A5-D19C-4A99-97F7-FF95BEA52731</td>\n",
              "      <td>462572</td>\n",
              "      <td>2016-02-05 09:35:26</td>\n",
              "      <td>2016-02-05 09:35:26</td>\n",
              "      <td>430</td>\n",
              "      <td>0</td>\n",
              "      <td>1055.0</td>\n",
              "      <td>BO65A965</td>\n",
              "      <td>False</td>\n",
              "      <td>...</td>\n",
              "      <td>1.0</td>\n",
              "      <td>NaN</td>\n",
              "      <td>NaN</td>\n",
              "      <td>NaN</td>\n",
              "      <td>NaN</td>\n",
              "      <td>NaN</td>\n",
              "      <td>NaN</td>\n",
              "      <td>0.00</td>\n",
              "      <td>0.00</td>\n",
              "      <td>NaN</td>\n",
              "    </tr>\n",
              "    <tr>\n",
              "      <th>179233</th>\n",
              "      <td>2021-07-20</td>\n",
              "      <td>98D9FCCE-0FD7-420E-9F7F-FFA960669E8B</td>\n",
              "      <td>396046</td>\n",
              "      <td>2015-08-17 17:23:05</td>\n",
              "      <td>2015-08-17 17:23:05</td>\n",
              "      <td>3000</td>\n",
              "      <td>0</td>\n",
              "      <td>0.0</td>\n",
              "      <td>BO9577433</td>\n",
              "      <td>True</td>\n",
              "      <td>...</td>\n",
              "      <td>0.0</td>\n",
              "      <td>NaN</td>\n",
              "      <td>NaN</td>\n",
              "      <td>NaN</td>\n",
              "      <td>NaN</td>\n",
              "      <td>NaN</td>\n",
              "      <td>NaN</td>\n",
              "      <td>0.00</td>\n",
              "      <td>0.00</td>\n",
              "      <td>NaN</td>\n",
              "    </tr>\n",
              "    <tr>\n",
              "      <th>179234</th>\n",
              "      <td>2021-07-20</td>\n",
              "      <td>65C924CD-8AAF-4ECC-9C8F-FFB0C5722CBB</td>\n",
              "      <td>374840</td>\n",
              "      <td>2015-06-15 10:22:34</td>\n",
              "      <td>2015-06-15 10:22:34</td>\n",
              "      <td>0</td>\n",
              "      <td>0</td>\n",
              "      <td>1300.0</td>\n",
              "      <td>avo1007</td>\n",
              "      <td>False</td>\n",
              "      <td>...</td>\n",
              "      <td>2.0</td>\n",
              "      <td>2016-04-27</td>\n",
              "      <td>2017-04-27</td>\n",
              "      <td>NaN</td>\n",
              "      <td>NaN</td>\n",
              "      <td>NaN</td>\n",
              "      <td>NaN</td>\n",
              "      <td>0.00</td>\n",
              "      <td>2.64</td>\n",
              "      <td>180+</td>\n",
              "    </tr>\n",
              "  </tbody>\n",
              "</table>\n",
              "<p>179235 rows × 112 columns</p>\n",
              "</div>\n",
              "      <button class=\"colab-df-convert\" onclick=\"convertToInteractive('df-6e9605b7-eebf-4297-8ff0-bbfead8c8e10')\"\n",
              "              title=\"Convert this dataframe to an interactive table.\"\n",
              "              style=\"display:none;\">\n",
              "        \n",
              "  <svg xmlns=\"http://www.w3.org/2000/svg\" height=\"24px\"viewBox=\"0 0 24 24\"\n",
              "       width=\"24px\">\n",
              "    <path d=\"M0 0h24v24H0V0z\" fill=\"none\"/>\n",
              "    <path d=\"M18.56 5.44l.94 2.06.94-2.06 2.06-.94-2.06-.94-.94-2.06-.94 2.06-2.06.94zm-11 1L8.5 8.5l.94-2.06 2.06-.94-2.06-.94L8.5 2.5l-.94 2.06-2.06.94zm10 10l.94 2.06.94-2.06 2.06-.94-2.06-.94-.94-2.06-.94 2.06-2.06.94z\"/><path d=\"M17.41 7.96l-1.37-1.37c-.4-.4-.92-.59-1.43-.59-.52 0-1.04.2-1.43.59L10.3 9.45l-7.72 7.72c-.78.78-.78 2.05 0 2.83L4 21.41c.39.39.9.59 1.41.59.51 0 1.02-.2 1.41-.59l7.78-7.78 2.81-2.81c.8-.78.8-2.07 0-2.86zM5.41 20L4 18.59l7.72-7.72 1.47 1.35L5.41 20z\"/>\n",
              "  </svg>\n",
              "      </button>\n",
              "      \n",
              "  <style>\n",
              "    .colab-df-container {\n",
              "      display:flex;\n",
              "      flex-wrap:wrap;\n",
              "      gap: 12px;\n",
              "    }\n",
              "\n",
              "    .colab-df-convert {\n",
              "      background-color: #E8F0FE;\n",
              "      border: none;\n",
              "      border-radius: 50%;\n",
              "      cursor: pointer;\n",
              "      display: none;\n",
              "      fill: #1967D2;\n",
              "      height: 32px;\n",
              "      padding: 0 0 0 0;\n",
              "      width: 32px;\n",
              "    }\n",
              "\n",
              "    .colab-df-convert:hover {\n",
              "      background-color: #E2EBFA;\n",
              "      box-shadow: 0px 1px 2px rgba(60, 64, 67, 0.3), 0px 1px 3px 1px rgba(60, 64, 67, 0.15);\n",
              "      fill: #174EA6;\n",
              "    }\n",
              "\n",
              "    [theme=dark] .colab-df-convert {\n",
              "      background-color: #3B4455;\n",
              "      fill: #D2E3FC;\n",
              "    }\n",
              "\n",
              "    [theme=dark] .colab-df-convert:hover {\n",
              "      background-color: #434B5C;\n",
              "      box-shadow: 0px 1px 3px 1px rgba(0, 0, 0, 0.15);\n",
              "      filter: drop-shadow(0px 1px 2px rgba(0, 0, 0, 0.3));\n",
              "      fill: #FFFFFF;\n",
              "    }\n",
              "  </style>\n",
              "\n",
              "      <script>\n",
              "        const buttonEl =\n",
              "          document.querySelector('#df-6e9605b7-eebf-4297-8ff0-bbfead8c8e10 button.colab-df-convert');\n",
              "        buttonEl.style.display =\n",
              "          google.colab.kernel.accessAllowed ? 'block' : 'none';\n",
              "\n",
              "        async function convertToInteractive(key) {\n",
              "          const element = document.querySelector('#df-6e9605b7-eebf-4297-8ff0-bbfead8c8e10');\n",
              "          const dataTable =\n",
              "            await google.colab.kernel.invokeFunction('convertToInteractive',\n",
              "                                                     [key], {});\n",
              "          if (!dataTable) return;\n",
              "\n",
              "          const docLinkHtml = 'Like what you see? Visit the ' +\n",
              "            '<a target=\"_blank\" href=https://colab.research.google.com/notebooks/data_table.ipynb>data table notebook</a>'\n",
              "            + ' to learn more about interactive tables.';\n",
              "          element.innerHTML = '';\n",
              "          dataTable['output_type'] = 'display_data';\n",
              "          await google.colab.output.renderOutput(dataTable, element);\n",
              "          const docLink = document.createElement('div');\n",
              "          docLink.innerHTML = docLinkHtml;\n",
              "          element.appendChild(docLink);\n",
              "        }\n",
              "      </script>\n",
              "    </div>\n",
              "  </div>\n",
              "  "
            ]
          },
          "metadata": {},
          "execution_count": 187
        }
      ]
    },
    {
      "cell_type": "code",
      "source": [
        "data['NrOfDependants'] = pd.to_numeric(data['NrOfDependants'], errors='coerce')\n",
        "data['NrOfDependants'] = data['NrOfDependants'].astype('Int64')"
      ],
      "metadata": {
        "id": "Cf0LZc4suS4R"
      },
      "execution_count": null,
      "outputs": []
    },
    {
      "cell_type": "markdown",
      "source": [
        "#Features Selection"
      ],
      "metadata": {
        "id": "0QNhGJreT8g5"
      }
    },
    {
      "cell_type": "code",
      "source": [
        "attr=['LoanId','UserName','NrOfDependants','Age','Gender','BidsPortfolioManager','Restructured','UseOfLoan','VerificationType','EmploymentStatus','DebtToIncome','HomeOwnershipType','AppliedAmount','IncomeTotal','Rating_V2']\n",
        "df = data[attr]\n",
        "df.dtypes"
      ],
      "metadata": {
        "colab": {
          "base_uri": "https://localhost:8080/"
        },
        "id": "SakQrl5LlplS",
        "outputId": "4cdf8e3f-0b76-49eb-99d6-ae599c301a35"
      },
      "execution_count": null,
      "outputs": [
        {
          "output_type": "execute_result",
          "data": {
            "text/plain": [
              "LoanId                   object\n",
              "UserName                 object\n",
              "NrOfDependants            Int64\n",
              "Age                       int64\n",
              "Gender                  float64\n",
              "BidsPortfolioManager      int64\n",
              "Restructured               bool\n",
              "UseOfLoan                 int64\n",
              "VerificationType        float64\n",
              "EmploymentStatus        float64\n",
              "DebtToIncome            float64\n",
              "HomeOwnershipType       float64\n",
              "AppliedAmount           float64\n",
              "IncomeTotal             float64\n",
              "Rating_V2                object\n",
              "dtype: object"
            ]
          },
          "metadata": {},
          "execution_count": 189
        }
      ]
    },
    {
      "cell_type": "code",
      "source": [
        "names=df.columns\n",
        "names"
      ],
      "metadata": {
        "colab": {
          "base_uri": "https://localhost:8080/"
        },
        "id": "YxKcPu7XmniT",
        "outputId": "97404580-0c79-4088-a1ef-3df367835ae1"
      },
      "execution_count": null,
      "outputs": [
        {
          "output_type": "execute_result",
          "data": {
            "text/plain": [
              "Index(['LoanId', 'UserName', 'NrOfDependants', 'Age', 'Gender',\n",
              "       'BidsPortfolioManager', 'Restructured', 'UseOfLoan', 'VerificationType',\n",
              "       'EmploymentStatus', 'DebtToIncome', 'HomeOwnershipType',\n",
              "       'AppliedAmount', 'IncomeTotal', 'Rating_V2'],\n",
              "      dtype='object')"
            ]
          },
          "metadata": {},
          "execution_count": 190
        }
      ]
    },
    {
      "cell_type": "markdown",
      "source": [
        "#Drop Column Which Have 50% Null"
      ],
      "metadata": {
        "id": "-LOD92dRUBvx"
      }
    },
    {
      "cell_type": "code",
      "source": [
        "list_of_50_percent_null = [ ]\n",
        "for i in df.columns:\n",
        "    if df[i].isnull().sum() >= (90*179235)/100:\n",
        "        list_of_50_percent_null.append(i)\n",
        "\n",
        "list_of_50_percent_null"
      ],
      "metadata": {
        "colab": {
          "base_uri": "https://localhost:8080/"
        },
        "id": "_JYPFHGZnlq3",
        "outputId": "3a7efd87-c572-4cc3-b787-f78fbdcd00bd"
      },
      "execution_count": null,
      "outputs": [
        {
          "output_type": "execute_result",
          "data": {
            "text/plain": [
              "[]"
            ]
          },
          "metadata": {},
          "execution_count": 191
        }
      ]
    },
    {
      "cell_type": "markdown",
      "source": [
        "#Separate Columns Which Have Object Data"
      ],
      "metadata": {
        "id": "c6AYAsnLUJpB"
      }
    },
    {
      "cell_type": "code",
      "source": [
        "obj_data=df.select_dtypes('object')\n",
        "df = df.drop(obj_data.columns, axis=1)"
      ],
      "metadata": {
        "id": "5oj4uvlWmvkl"
      },
      "execution_count": null,
      "outputs": []
    },
    {
      "cell_type": "code",
      "source": [
        "obj_data"
      ],
      "metadata": {
        "colab": {
          "base_uri": "https://localhost:8080/",
          "height": 423
        },
        "id": "-rIyhXpknXP2",
        "outputId": "d1bbcdbc-3c8f-4c18-e0ad-5469b9a5e3f0"
      },
      "execution_count": null,
      "outputs": [
        {
          "output_type": "execute_result",
          "data": {
            "text/plain": [
              "                                      LoanId   UserName Rating_V2\n",
              "0       66AE108B-532B-4BB3-BAB7-0019A46412C1   BO965519         C\n",
              "1       D152382E-A50D-46ED-8FF2-0053E0C86A70  BOA9K172A         B\n",
              "2       87342E13-66CB-483F-833A-007953E50C78  BO7971663         A\n",
              "3       87227056-6BF9-410C-98D1-008F788E122A  BO76151K3        HR\n",
              "4       2DDE6336-E466-4624-A337-00A0ED1A1468  BOK423A63        HR\n",
              "...                                      ...        ...       ...\n",
              "179230  D9E714C3-B9B8-4FD1-B1AD-FF55B3AE8A8F  BO6492A4A        HR\n",
              "179231  09999223-3D69-42E3-BAAA-FF7F312AB236  BO542A57A         D\n",
              "179232  370193A5-D19C-4A99-97F7-FF95BEA52731   BO65A965        HR\n",
              "179233  98D9FCCE-0FD7-420E-9F7F-FFA960669E8B  BO9577433         D\n",
              "179234  65C924CD-8AAF-4ECC-9C8F-FFB0C5722CBB    avo1007        AA\n",
              "\n",
              "[179235 rows x 3 columns]"
            ],
            "text/html": [
              "\n",
              "  <div id=\"df-6ab395eb-2766-41df-9c21-88736fcd058d\">\n",
              "    <div class=\"colab-df-container\">\n",
              "      <div>\n",
              "<style scoped>\n",
              "    .dataframe tbody tr th:only-of-type {\n",
              "        vertical-align: middle;\n",
              "    }\n",
              "\n",
              "    .dataframe tbody tr th {\n",
              "        vertical-align: top;\n",
              "    }\n",
              "\n",
              "    .dataframe thead th {\n",
              "        text-align: right;\n",
              "    }\n",
              "</style>\n",
              "<table border=\"1\" class=\"dataframe\">\n",
              "  <thead>\n",
              "    <tr style=\"text-align: right;\">\n",
              "      <th></th>\n",
              "      <th>LoanId</th>\n",
              "      <th>UserName</th>\n",
              "      <th>Rating_V2</th>\n",
              "    </tr>\n",
              "  </thead>\n",
              "  <tbody>\n",
              "    <tr>\n",
              "      <th>0</th>\n",
              "      <td>66AE108B-532B-4BB3-BAB7-0019A46412C1</td>\n",
              "      <td>BO965519</td>\n",
              "      <td>C</td>\n",
              "    </tr>\n",
              "    <tr>\n",
              "      <th>1</th>\n",
              "      <td>D152382E-A50D-46ED-8FF2-0053E0C86A70</td>\n",
              "      <td>BOA9K172A</td>\n",
              "      <td>B</td>\n",
              "    </tr>\n",
              "    <tr>\n",
              "      <th>2</th>\n",
              "      <td>87342E13-66CB-483F-833A-007953E50C78</td>\n",
              "      <td>BO7971663</td>\n",
              "      <td>A</td>\n",
              "    </tr>\n",
              "    <tr>\n",
              "      <th>3</th>\n",
              "      <td>87227056-6BF9-410C-98D1-008F788E122A</td>\n",
              "      <td>BO76151K3</td>\n",
              "      <td>HR</td>\n",
              "    </tr>\n",
              "    <tr>\n",
              "      <th>4</th>\n",
              "      <td>2DDE6336-E466-4624-A337-00A0ED1A1468</td>\n",
              "      <td>BOK423A63</td>\n",
              "      <td>HR</td>\n",
              "    </tr>\n",
              "    <tr>\n",
              "      <th>...</th>\n",
              "      <td>...</td>\n",
              "      <td>...</td>\n",
              "      <td>...</td>\n",
              "    </tr>\n",
              "    <tr>\n",
              "      <th>179230</th>\n",
              "      <td>D9E714C3-B9B8-4FD1-B1AD-FF55B3AE8A8F</td>\n",
              "      <td>BO6492A4A</td>\n",
              "      <td>HR</td>\n",
              "    </tr>\n",
              "    <tr>\n",
              "      <th>179231</th>\n",
              "      <td>09999223-3D69-42E3-BAAA-FF7F312AB236</td>\n",
              "      <td>BO542A57A</td>\n",
              "      <td>D</td>\n",
              "    </tr>\n",
              "    <tr>\n",
              "      <th>179232</th>\n",
              "      <td>370193A5-D19C-4A99-97F7-FF95BEA52731</td>\n",
              "      <td>BO65A965</td>\n",
              "      <td>HR</td>\n",
              "    </tr>\n",
              "    <tr>\n",
              "      <th>179233</th>\n",
              "      <td>98D9FCCE-0FD7-420E-9F7F-FFA960669E8B</td>\n",
              "      <td>BO9577433</td>\n",
              "      <td>D</td>\n",
              "    </tr>\n",
              "    <tr>\n",
              "      <th>179234</th>\n",
              "      <td>65C924CD-8AAF-4ECC-9C8F-FFB0C5722CBB</td>\n",
              "      <td>avo1007</td>\n",
              "      <td>AA</td>\n",
              "    </tr>\n",
              "  </tbody>\n",
              "</table>\n",
              "<p>179235 rows × 3 columns</p>\n",
              "</div>\n",
              "      <button class=\"colab-df-convert\" onclick=\"convertToInteractive('df-6ab395eb-2766-41df-9c21-88736fcd058d')\"\n",
              "              title=\"Convert this dataframe to an interactive table.\"\n",
              "              style=\"display:none;\">\n",
              "        \n",
              "  <svg xmlns=\"http://www.w3.org/2000/svg\" height=\"24px\"viewBox=\"0 0 24 24\"\n",
              "       width=\"24px\">\n",
              "    <path d=\"M0 0h24v24H0V0z\" fill=\"none\"/>\n",
              "    <path d=\"M18.56 5.44l.94 2.06.94-2.06 2.06-.94-2.06-.94-.94-2.06-.94 2.06-2.06.94zm-11 1L8.5 8.5l.94-2.06 2.06-.94-2.06-.94L8.5 2.5l-.94 2.06-2.06.94zm10 10l.94 2.06.94-2.06 2.06-.94-2.06-.94-.94-2.06-.94 2.06-2.06.94z\"/><path d=\"M17.41 7.96l-1.37-1.37c-.4-.4-.92-.59-1.43-.59-.52 0-1.04.2-1.43.59L10.3 9.45l-7.72 7.72c-.78.78-.78 2.05 0 2.83L4 21.41c.39.39.9.59 1.41.59.51 0 1.02-.2 1.41-.59l7.78-7.78 2.81-2.81c.8-.78.8-2.07 0-2.86zM5.41 20L4 18.59l7.72-7.72 1.47 1.35L5.41 20z\"/>\n",
              "  </svg>\n",
              "      </button>\n",
              "      \n",
              "  <style>\n",
              "    .colab-df-container {\n",
              "      display:flex;\n",
              "      flex-wrap:wrap;\n",
              "      gap: 12px;\n",
              "    }\n",
              "\n",
              "    .colab-df-convert {\n",
              "      background-color: #E8F0FE;\n",
              "      border: none;\n",
              "      border-radius: 50%;\n",
              "      cursor: pointer;\n",
              "      display: none;\n",
              "      fill: #1967D2;\n",
              "      height: 32px;\n",
              "      padding: 0 0 0 0;\n",
              "      width: 32px;\n",
              "    }\n",
              "\n",
              "    .colab-df-convert:hover {\n",
              "      background-color: #E2EBFA;\n",
              "      box-shadow: 0px 1px 2px rgba(60, 64, 67, 0.3), 0px 1px 3px 1px rgba(60, 64, 67, 0.15);\n",
              "      fill: #174EA6;\n",
              "    }\n",
              "\n",
              "    [theme=dark] .colab-df-convert {\n",
              "      background-color: #3B4455;\n",
              "      fill: #D2E3FC;\n",
              "    }\n",
              "\n",
              "    [theme=dark] .colab-df-convert:hover {\n",
              "      background-color: #434B5C;\n",
              "      box-shadow: 0px 1px 3px 1px rgba(0, 0, 0, 0.15);\n",
              "      filter: drop-shadow(0px 1px 2px rgba(0, 0, 0, 0.3));\n",
              "      fill: #FFFFFF;\n",
              "    }\n",
              "  </style>\n",
              "\n",
              "      <script>\n",
              "        const buttonEl =\n",
              "          document.querySelector('#df-6ab395eb-2766-41df-9c21-88736fcd058d button.colab-df-convert');\n",
              "        buttonEl.style.display =\n",
              "          google.colab.kernel.accessAllowed ? 'block' : 'none';\n",
              "\n",
              "        async function convertToInteractive(key) {\n",
              "          const element = document.querySelector('#df-6ab395eb-2766-41df-9c21-88736fcd058d');\n",
              "          const dataTable =\n",
              "            await google.colab.kernel.invokeFunction('convertToInteractive',\n",
              "                                                     [key], {});\n",
              "          if (!dataTable) return;\n",
              "\n",
              "          const docLinkHtml = 'Like what you see? Visit the ' +\n",
              "            '<a target=\"_blank\" href=https://colab.research.google.com/notebooks/data_table.ipynb>data table notebook</a>'\n",
              "            + ' to learn more about interactive tables.';\n",
              "          element.innerHTML = '';\n",
              "          dataTable['output_type'] = 'display_data';\n",
              "          await google.colab.output.renderOutput(dataTable, element);\n",
              "          const docLink = document.createElement('div');\n",
              "          docLink.innerHTML = docLinkHtml;\n",
              "          element.appendChild(docLink);\n",
              "        }\n",
              "      </script>\n",
              "    </div>\n",
              "  </div>\n",
              "  "
            ]
          },
          "metadata": {},
          "execution_count": 193
        }
      ]
    },
    {
      "cell_type": "markdown",
      "source": [
        "#Seperate Columns Which Have Boolean Data"
      ],
      "metadata": {
        "id": "osCyFoY2UeqD"
      }
    },
    {
      "cell_type": "code",
      "source": [
        "bool_data = df.select_dtypes('bool')\n",
        "df = df.drop(bool_data.columns, axis=1)"
      ],
      "metadata": {
        "id": "YMu8qTFanLqV"
      },
      "execution_count": null,
      "outputs": []
    },
    {
      "cell_type": "code",
      "source": [
        "bool_data"
      ],
      "metadata": {
        "colab": {
          "base_uri": "https://localhost:8080/",
          "height": 423
        },
        "id": "qx3lEJOtnaXC",
        "outputId": "ad81eec3-4b36-46f3-aa7c-74a83849f5c3"
      },
      "execution_count": null,
      "outputs": [
        {
          "output_type": "execute_result",
          "data": {
            "text/plain": [
              "        Restructured\n",
              "0              False\n",
              "1              False\n",
              "2              False\n",
              "3              False\n",
              "4              False\n",
              "...              ...\n",
              "179230         False\n",
              "179231         False\n",
              "179232         False\n",
              "179233         False\n",
              "179234          True\n",
              "\n",
              "[179235 rows x 1 columns]"
            ],
            "text/html": [
              "\n",
              "  <div id=\"df-bf935a2d-b63c-4a36-9527-2ff9fe146f9e\">\n",
              "    <div class=\"colab-df-container\">\n",
              "      <div>\n",
              "<style scoped>\n",
              "    .dataframe tbody tr th:only-of-type {\n",
              "        vertical-align: middle;\n",
              "    }\n",
              "\n",
              "    .dataframe tbody tr th {\n",
              "        vertical-align: top;\n",
              "    }\n",
              "\n",
              "    .dataframe thead th {\n",
              "        text-align: right;\n",
              "    }\n",
              "</style>\n",
              "<table border=\"1\" class=\"dataframe\">\n",
              "  <thead>\n",
              "    <tr style=\"text-align: right;\">\n",
              "      <th></th>\n",
              "      <th>Restructured</th>\n",
              "    </tr>\n",
              "  </thead>\n",
              "  <tbody>\n",
              "    <tr>\n",
              "      <th>0</th>\n",
              "      <td>False</td>\n",
              "    </tr>\n",
              "    <tr>\n",
              "      <th>1</th>\n",
              "      <td>False</td>\n",
              "    </tr>\n",
              "    <tr>\n",
              "      <th>2</th>\n",
              "      <td>False</td>\n",
              "    </tr>\n",
              "    <tr>\n",
              "      <th>3</th>\n",
              "      <td>False</td>\n",
              "    </tr>\n",
              "    <tr>\n",
              "      <th>4</th>\n",
              "      <td>False</td>\n",
              "    </tr>\n",
              "    <tr>\n",
              "      <th>...</th>\n",
              "      <td>...</td>\n",
              "    </tr>\n",
              "    <tr>\n",
              "      <th>179230</th>\n",
              "      <td>False</td>\n",
              "    </tr>\n",
              "    <tr>\n",
              "      <th>179231</th>\n",
              "      <td>False</td>\n",
              "    </tr>\n",
              "    <tr>\n",
              "      <th>179232</th>\n",
              "      <td>False</td>\n",
              "    </tr>\n",
              "    <tr>\n",
              "      <th>179233</th>\n",
              "      <td>False</td>\n",
              "    </tr>\n",
              "    <tr>\n",
              "      <th>179234</th>\n",
              "      <td>True</td>\n",
              "    </tr>\n",
              "  </tbody>\n",
              "</table>\n",
              "<p>179235 rows × 1 columns</p>\n",
              "</div>\n",
              "      <button class=\"colab-df-convert\" onclick=\"convertToInteractive('df-bf935a2d-b63c-4a36-9527-2ff9fe146f9e')\"\n",
              "              title=\"Convert this dataframe to an interactive table.\"\n",
              "              style=\"display:none;\">\n",
              "        \n",
              "  <svg xmlns=\"http://www.w3.org/2000/svg\" height=\"24px\"viewBox=\"0 0 24 24\"\n",
              "       width=\"24px\">\n",
              "    <path d=\"M0 0h24v24H0V0z\" fill=\"none\"/>\n",
              "    <path d=\"M18.56 5.44l.94 2.06.94-2.06 2.06-.94-2.06-.94-.94-2.06-.94 2.06-2.06.94zm-11 1L8.5 8.5l.94-2.06 2.06-.94-2.06-.94L8.5 2.5l-.94 2.06-2.06.94zm10 10l.94 2.06.94-2.06 2.06-.94-2.06-.94-.94-2.06-.94 2.06-2.06.94z\"/><path d=\"M17.41 7.96l-1.37-1.37c-.4-.4-.92-.59-1.43-.59-.52 0-1.04.2-1.43.59L10.3 9.45l-7.72 7.72c-.78.78-.78 2.05 0 2.83L4 21.41c.39.39.9.59 1.41.59.51 0 1.02-.2 1.41-.59l7.78-7.78 2.81-2.81c.8-.78.8-2.07 0-2.86zM5.41 20L4 18.59l7.72-7.72 1.47 1.35L5.41 20z\"/>\n",
              "  </svg>\n",
              "      </button>\n",
              "      \n",
              "  <style>\n",
              "    .colab-df-container {\n",
              "      display:flex;\n",
              "      flex-wrap:wrap;\n",
              "      gap: 12px;\n",
              "    }\n",
              "\n",
              "    .colab-df-convert {\n",
              "      background-color: #E8F0FE;\n",
              "      border: none;\n",
              "      border-radius: 50%;\n",
              "      cursor: pointer;\n",
              "      display: none;\n",
              "      fill: #1967D2;\n",
              "      height: 32px;\n",
              "      padding: 0 0 0 0;\n",
              "      width: 32px;\n",
              "    }\n",
              "\n",
              "    .colab-df-convert:hover {\n",
              "      background-color: #E2EBFA;\n",
              "      box-shadow: 0px 1px 2px rgba(60, 64, 67, 0.3), 0px 1px 3px 1px rgba(60, 64, 67, 0.15);\n",
              "      fill: #174EA6;\n",
              "    }\n",
              "\n",
              "    [theme=dark] .colab-df-convert {\n",
              "      background-color: #3B4455;\n",
              "      fill: #D2E3FC;\n",
              "    }\n",
              "\n",
              "    [theme=dark] .colab-df-convert:hover {\n",
              "      background-color: #434B5C;\n",
              "      box-shadow: 0px 1px 3px 1px rgba(0, 0, 0, 0.15);\n",
              "      filter: drop-shadow(0px 1px 2px rgba(0, 0, 0, 0.3));\n",
              "      fill: #FFFFFF;\n",
              "    }\n",
              "  </style>\n",
              "\n",
              "      <script>\n",
              "        const buttonEl =\n",
              "          document.querySelector('#df-bf935a2d-b63c-4a36-9527-2ff9fe146f9e button.colab-df-convert');\n",
              "        buttonEl.style.display =\n",
              "          google.colab.kernel.accessAllowed ? 'block' : 'none';\n",
              "\n",
              "        async function convertToInteractive(key) {\n",
              "          const element = document.querySelector('#df-bf935a2d-b63c-4a36-9527-2ff9fe146f9e');\n",
              "          const dataTable =\n",
              "            await google.colab.kernel.invokeFunction('convertToInteractive',\n",
              "                                                     [key], {});\n",
              "          if (!dataTable) return;\n",
              "\n",
              "          const docLinkHtml = 'Like what you see? Visit the ' +\n",
              "            '<a target=\"_blank\" href=https://colab.research.google.com/notebooks/data_table.ipynb>data table notebook</a>'\n",
              "            + ' to learn more about interactive tables.';\n",
              "          element.innerHTML = '';\n",
              "          dataTable['output_type'] = 'display_data';\n",
              "          await google.colab.output.renderOutput(dataTable, element);\n",
              "          const docLink = document.createElement('div');\n",
              "          docLink.innerHTML = docLinkHtml;\n",
              "          element.appendChild(docLink);\n",
              "        }\n",
              "      </script>\n",
              "    </div>\n",
              "  </div>\n",
              "  "
            ]
          },
          "metadata": {},
          "execution_count": 195
        }
      ]
    },
    {
      "cell_type": "markdown",
      "source": [
        "#Fill null data with 'Unknown'"
      ],
      "metadata": {
        "id": "dVjxgSUCUvqo"
      }
    },
    {
      "cell_type": "code",
      "source": [
        "obj_data=obj_data.fillna('unknown')"
      ],
      "metadata": {
        "id": "aXVz_-F4oM5s"
      },
      "execution_count": null,
      "outputs": []
    },
    {
      "cell_type": "markdown",
      "source": [
        "#Labelling Object and Boolean Data"
      ],
      "metadata": {
        "id": "epcIjE8oU6MQ"
      }
    },
    {
      "cell_type": "code",
      "source": [
        "obj_array= np.array(obj_data).reshape(-1)\n",
        "bool_array= np.array(bool_data).reshape(-1)"
      ],
      "metadata": {
        "id": "iMXM-at-okAM"
      },
      "execution_count": null,
      "outputs": []
    },
    {
      "cell_type": "code",
      "source": [
        "obj_array"
      ],
      "metadata": {
        "colab": {
          "base_uri": "https://localhost:8080/"
        },
        "id": "1tyQuyuuqmOn",
        "outputId": "11b53e90-1362-42de-f8fc-61826808ab6c"
      },
      "execution_count": null,
      "outputs": [
        {
          "output_type": "execute_result",
          "data": {
            "text/plain": [
              "array(['66AE108B-532B-4BB3-BAB7-0019A46412C1', 'BO965519', 'C', ...,\n",
              "       '65C924CD-8AAF-4ECC-9C8F-FFB0C5722CBB', 'avo1007', 'AA'],\n",
              "      dtype=object)"
            ]
          },
          "metadata": {},
          "execution_count": 198
        }
      ]
    },
    {
      "cell_type": "code",
      "source": [
        "encoder_1= LabelEncoder()\n",
        "encoder_2= LabelEncoder()"
      ],
      "metadata": {
        "id": "HfMUQ0wzo1AF"
      },
      "execution_count": null,
      "outputs": []
    },
    {
      "cell_type": "code",
      "source": [
        "obj_enc= encoder_1.fit_transform(obj_array)\n",
        "bool_enc= encoder_2.fit_transform(bool_array)"
      ],
      "metadata": {
        "id": "idKyCJDvo6QS"
      },
      "execution_count": null,
      "outputs": []
    },
    {
      "cell_type": "code",
      "source": [
        "obj_enc= pd.DataFrame(obj_enc.reshape(179235,int(obj_enc.shape[0]/179235)))\n",
        "bool_enc= pd.DataFrame(bool_enc.reshape(179235,int(bool_enc.shape[0]/179235)))"
      ],
      "metadata": {
        "id": "bqIacaMcu26T"
      },
      "execution_count": null,
      "outputs": []
    },
    {
      "cell_type": "code",
      "source": [
        "features_obj_data= list(obj_data.columns)\n",
        "features_bool_data= list(bool_data.columns)"
      ],
      "metadata": {
        "id": "ITZbYkXjyY5G"
      },
      "execution_count": null,
      "outputs": []
    },
    {
      "cell_type": "code",
      "source": [
        "obj_enc.columns= features_obj_data\n",
        "bool_enc.columns= features_bool_data"
      ],
      "metadata": {
        "id": "OcvetykXykkz"
      },
      "execution_count": null,
      "outputs": []
    },
    {
      "cell_type": "markdown",
      "source": [
        "#Concatenate Object and Boolean Data"
      ],
      "metadata": {
        "id": "6xRWj2GqVMMI"
      }
    },
    {
      "cell_type": "code",
      "source": [
        "object_data=pd.concat([obj_enc,bool_enc], axis=1)\n",
        "object_data"
      ],
      "metadata": {
        "colab": {
          "base_uri": "https://localhost:8080/",
          "height": 423
        },
        "id": "bi2i29civKSr",
        "outputId": "01b0f3fa-6c58-49b2-c67b-6d7cdd942f8d"
      },
      "execution_count": null,
      "outputs": [
        {
          "output_type": "execute_result",
          "data": {
            "text/plain": [
              "        LoanId  UserName  Rating_V2  Restructured\n",
              "0        71936    195517     215482             0\n",
              "1       227690    205590     123260             0\n",
              "2        94698    189172     111902             0\n",
              "3        94639    187079     260590             0\n",
              "4        32037    209809     260590             0\n",
              "...        ...       ...        ...           ...\n",
              "179230  233682    177914     260590             0\n",
              "179231    6595    169463     226788             0\n",
              "179232   38469    178862     260590             0\n",
              "179233  106953    194896     226788             0\n",
              "179234   71309    261810     118926             1\n",
              "\n",
              "[179235 rows x 4 columns]"
            ],
            "text/html": [
              "\n",
              "  <div id=\"df-6227f3af-5693-4bd9-ad9b-c7688f5cf54b\">\n",
              "    <div class=\"colab-df-container\">\n",
              "      <div>\n",
              "<style scoped>\n",
              "    .dataframe tbody tr th:only-of-type {\n",
              "        vertical-align: middle;\n",
              "    }\n",
              "\n",
              "    .dataframe tbody tr th {\n",
              "        vertical-align: top;\n",
              "    }\n",
              "\n",
              "    .dataframe thead th {\n",
              "        text-align: right;\n",
              "    }\n",
              "</style>\n",
              "<table border=\"1\" class=\"dataframe\">\n",
              "  <thead>\n",
              "    <tr style=\"text-align: right;\">\n",
              "      <th></th>\n",
              "      <th>LoanId</th>\n",
              "      <th>UserName</th>\n",
              "      <th>Rating_V2</th>\n",
              "      <th>Restructured</th>\n",
              "    </tr>\n",
              "  </thead>\n",
              "  <tbody>\n",
              "    <tr>\n",
              "      <th>0</th>\n",
              "      <td>71936</td>\n",
              "      <td>195517</td>\n",
              "      <td>215482</td>\n",
              "      <td>0</td>\n",
              "    </tr>\n",
              "    <tr>\n",
              "      <th>1</th>\n",
              "      <td>227690</td>\n",
              "      <td>205590</td>\n",
              "      <td>123260</td>\n",
              "      <td>0</td>\n",
              "    </tr>\n",
              "    <tr>\n",
              "      <th>2</th>\n",
              "      <td>94698</td>\n",
              "      <td>189172</td>\n",
              "      <td>111902</td>\n",
              "      <td>0</td>\n",
              "    </tr>\n",
              "    <tr>\n",
              "      <th>3</th>\n",
              "      <td>94639</td>\n",
              "      <td>187079</td>\n",
              "      <td>260590</td>\n",
              "      <td>0</td>\n",
              "    </tr>\n",
              "    <tr>\n",
              "      <th>4</th>\n",
              "      <td>32037</td>\n",
              "      <td>209809</td>\n",
              "      <td>260590</td>\n",
              "      <td>0</td>\n",
              "    </tr>\n",
              "    <tr>\n",
              "      <th>...</th>\n",
              "      <td>...</td>\n",
              "      <td>...</td>\n",
              "      <td>...</td>\n",
              "      <td>...</td>\n",
              "    </tr>\n",
              "    <tr>\n",
              "      <th>179230</th>\n",
              "      <td>233682</td>\n",
              "      <td>177914</td>\n",
              "      <td>260590</td>\n",
              "      <td>0</td>\n",
              "    </tr>\n",
              "    <tr>\n",
              "      <th>179231</th>\n",
              "      <td>6595</td>\n",
              "      <td>169463</td>\n",
              "      <td>226788</td>\n",
              "      <td>0</td>\n",
              "    </tr>\n",
              "    <tr>\n",
              "      <th>179232</th>\n",
              "      <td>38469</td>\n",
              "      <td>178862</td>\n",
              "      <td>260590</td>\n",
              "      <td>0</td>\n",
              "    </tr>\n",
              "    <tr>\n",
              "      <th>179233</th>\n",
              "      <td>106953</td>\n",
              "      <td>194896</td>\n",
              "      <td>226788</td>\n",
              "      <td>0</td>\n",
              "    </tr>\n",
              "    <tr>\n",
              "      <th>179234</th>\n",
              "      <td>71309</td>\n",
              "      <td>261810</td>\n",
              "      <td>118926</td>\n",
              "      <td>1</td>\n",
              "    </tr>\n",
              "  </tbody>\n",
              "</table>\n",
              "<p>179235 rows × 4 columns</p>\n",
              "</div>\n",
              "      <button class=\"colab-df-convert\" onclick=\"convertToInteractive('df-6227f3af-5693-4bd9-ad9b-c7688f5cf54b')\"\n",
              "              title=\"Convert this dataframe to an interactive table.\"\n",
              "              style=\"display:none;\">\n",
              "        \n",
              "  <svg xmlns=\"http://www.w3.org/2000/svg\" height=\"24px\"viewBox=\"0 0 24 24\"\n",
              "       width=\"24px\">\n",
              "    <path d=\"M0 0h24v24H0V0z\" fill=\"none\"/>\n",
              "    <path d=\"M18.56 5.44l.94 2.06.94-2.06 2.06-.94-2.06-.94-.94-2.06-.94 2.06-2.06.94zm-11 1L8.5 8.5l.94-2.06 2.06-.94-2.06-.94L8.5 2.5l-.94 2.06-2.06.94zm10 10l.94 2.06.94-2.06 2.06-.94-2.06-.94-.94-2.06-.94 2.06-2.06.94z\"/><path d=\"M17.41 7.96l-1.37-1.37c-.4-.4-.92-.59-1.43-.59-.52 0-1.04.2-1.43.59L10.3 9.45l-7.72 7.72c-.78.78-.78 2.05 0 2.83L4 21.41c.39.39.9.59 1.41.59.51 0 1.02-.2 1.41-.59l7.78-7.78 2.81-2.81c.8-.78.8-2.07 0-2.86zM5.41 20L4 18.59l7.72-7.72 1.47 1.35L5.41 20z\"/>\n",
              "  </svg>\n",
              "      </button>\n",
              "      \n",
              "  <style>\n",
              "    .colab-df-container {\n",
              "      display:flex;\n",
              "      flex-wrap:wrap;\n",
              "      gap: 12px;\n",
              "    }\n",
              "\n",
              "    .colab-df-convert {\n",
              "      background-color: #E8F0FE;\n",
              "      border: none;\n",
              "      border-radius: 50%;\n",
              "      cursor: pointer;\n",
              "      display: none;\n",
              "      fill: #1967D2;\n",
              "      height: 32px;\n",
              "      padding: 0 0 0 0;\n",
              "      width: 32px;\n",
              "    }\n",
              "\n",
              "    .colab-df-convert:hover {\n",
              "      background-color: #E2EBFA;\n",
              "      box-shadow: 0px 1px 2px rgba(60, 64, 67, 0.3), 0px 1px 3px 1px rgba(60, 64, 67, 0.15);\n",
              "      fill: #174EA6;\n",
              "    }\n",
              "\n",
              "    [theme=dark] .colab-df-convert {\n",
              "      background-color: #3B4455;\n",
              "      fill: #D2E3FC;\n",
              "    }\n",
              "\n",
              "    [theme=dark] .colab-df-convert:hover {\n",
              "      background-color: #434B5C;\n",
              "      box-shadow: 0px 1px 3px 1px rgba(0, 0, 0, 0.15);\n",
              "      filter: drop-shadow(0px 1px 2px rgba(0, 0, 0, 0.3));\n",
              "      fill: #FFFFFF;\n",
              "    }\n",
              "  </style>\n",
              "\n",
              "      <script>\n",
              "        const buttonEl =\n",
              "          document.querySelector('#df-6227f3af-5693-4bd9-ad9b-c7688f5cf54b button.colab-df-convert');\n",
              "        buttonEl.style.display =\n",
              "          google.colab.kernel.accessAllowed ? 'block' : 'none';\n",
              "\n",
              "        async function convertToInteractive(key) {\n",
              "          const element = document.querySelector('#df-6227f3af-5693-4bd9-ad9b-c7688f5cf54b');\n",
              "          const dataTable =\n",
              "            await google.colab.kernel.invokeFunction('convertToInteractive',\n",
              "                                                     [key], {});\n",
              "          if (!dataTable) return;\n",
              "\n",
              "          const docLinkHtml = 'Like what you see? Visit the ' +\n",
              "            '<a target=\"_blank\" href=https://colab.research.google.com/notebooks/data_table.ipynb>data table notebook</a>'\n",
              "            + ' to learn more about interactive tables.';\n",
              "          element.innerHTML = '';\n",
              "          dataTable['output_type'] = 'display_data';\n",
              "          await google.colab.output.renderOutput(dataTable, element);\n",
              "          const docLink = document.createElement('div');\n",
              "          docLink.innerHTML = docLinkHtml;\n",
              "          element.appendChild(docLink);\n",
              "        }\n",
              "      </script>\n",
              "    </div>\n",
              "  </div>\n",
              "  "
            ]
          },
          "metadata": {},
          "execution_count": 204
        }
      ]
    },
    {
      "cell_type": "code",
      "source": [
        "df"
      ],
      "metadata": {
        "colab": {
          "base_uri": "https://localhost:8080/",
          "height": 487
        },
        "id": "9XSfeFfpvcra",
        "outputId": "e9de8ad3-c89b-493c-9060-d3db00f4a48d"
      },
      "execution_count": null,
      "outputs": [
        {
          "output_type": "execute_result",
          "data": {
            "text/plain": [
              "        NrOfDependants  Age  Gender  BidsPortfolioManager  UseOfLoan  \\\n",
              "0                    0   53     1.0                   970          2   \n",
              "1                    0   50     1.0                  1295          3   \n",
              "2                    1   44     0.0                  2700          3   \n",
              "3                    0   42     0.0                  1115          2   \n",
              "4                    2   34     1.0                   305          7   \n",
              "...                ...  ...     ...                   ...        ...   \n",
              "179230               0   38     1.0                  2000          6   \n",
              "179231               0   37     0.0                  6215          0   \n",
              "179232               0   37     0.0                   430          7   \n",
              "179233               0   58     1.0                  3000          6   \n",
              "179234               0   64     0.0                     0          6   \n",
              "\n",
              "        VerificationType  EmploymentStatus  DebtToIncome  HomeOwnershipType  \\\n",
              "0                    4.0               6.0         26.29                1.0   \n",
              "1                    1.0               5.0         30.58                1.0   \n",
              "2                    4.0               5.0         26.71                8.0   \n",
              "3                    3.0               3.0          7.36                2.0   \n",
              "4                    4.0               6.0         36.04                3.0   \n",
              "...                  ...               ...           ...                ...   \n",
              "179230               1.0               3.0          9.40                3.0   \n",
              "179231               4.0               3.0         69.77                4.0   \n",
              "179232               1.0               3.0         30.13                8.0   \n",
              "179233               1.0               3.0         25.35                1.0   \n",
              "179234               4.0               4.0         56.59                1.0   \n",
              "\n",
              "        AppliedAmount  IncomeTotal  \n",
              "0              2125.0        354.0  \n",
              "1              3000.0        900.0  \n",
              "2             10630.0       1200.0  \n",
              "3              1500.0        863.0  \n",
              "4              1595.0        697.0  \n",
              "...               ...          ...  \n",
              "179230         2000.0       2300.0  \n",
              "179231         7440.0       2172.0  \n",
              "179232         1595.0       1550.0  \n",
              "179233         3000.0        350.0  \n",
              "179234         1300.0        867.0  \n",
              "\n",
              "[179235 rows x 11 columns]"
            ],
            "text/html": [
              "\n",
              "  <div id=\"df-04b871c6-abed-477e-bc7d-09c4e7b21ea7\">\n",
              "    <div class=\"colab-df-container\">\n",
              "      <div>\n",
              "<style scoped>\n",
              "    .dataframe tbody tr th:only-of-type {\n",
              "        vertical-align: middle;\n",
              "    }\n",
              "\n",
              "    .dataframe tbody tr th {\n",
              "        vertical-align: top;\n",
              "    }\n",
              "\n",
              "    .dataframe thead th {\n",
              "        text-align: right;\n",
              "    }\n",
              "</style>\n",
              "<table border=\"1\" class=\"dataframe\">\n",
              "  <thead>\n",
              "    <tr style=\"text-align: right;\">\n",
              "      <th></th>\n",
              "      <th>NrOfDependants</th>\n",
              "      <th>Age</th>\n",
              "      <th>Gender</th>\n",
              "      <th>BidsPortfolioManager</th>\n",
              "      <th>UseOfLoan</th>\n",
              "      <th>VerificationType</th>\n",
              "      <th>EmploymentStatus</th>\n",
              "      <th>DebtToIncome</th>\n",
              "      <th>HomeOwnershipType</th>\n",
              "      <th>AppliedAmount</th>\n",
              "      <th>IncomeTotal</th>\n",
              "    </tr>\n",
              "  </thead>\n",
              "  <tbody>\n",
              "    <tr>\n",
              "      <th>0</th>\n",
              "      <td>0</td>\n",
              "      <td>53</td>\n",
              "      <td>1.0</td>\n",
              "      <td>970</td>\n",
              "      <td>2</td>\n",
              "      <td>4.0</td>\n",
              "      <td>6.0</td>\n",
              "      <td>26.29</td>\n",
              "      <td>1.0</td>\n",
              "      <td>2125.0</td>\n",
              "      <td>354.0</td>\n",
              "    </tr>\n",
              "    <tr>\n",
              "      <th>1</th>\n",
              "      <td>0</td>\n",
              "      <td>50</td>\n",
              "      <td>1.0</td>\n",
              "      <td>1295</td>\n",
              "      <td>3</td>\n",
              "      <td>1.0</td>\n",
              "      <td>5.0</td>\n",
              "      <td>30.58</td>\n",
              "      <td>1.0</td>\n",
              "      <td>3000.0</td>\n",
              "      <td>900.0</td>\n",
              "    </tr>\n",
              "    <tr>\n",
              "      <th>2</th>\n",
              "      <td>1</td>\n",
              "      <td>44</td>\n",
              "      <td>0.0</td>\n",
              "      <td>2700</td>\n",
              "      <td>3</td>\n",
              "      <td>4.0</td>\n",
              "      <td>5.0</td>\n",
              "      <td>26.71</td>\n",
              "      <td>8.0</td>\n",
              "      <td>10630.0</td>\n",
              "      <td>1200.0</td>\n",
              "    </tr>\n",
              "    <tr>\n",
              "      <th>3</th>\n",
              "      <td>0</td>\n",
              "      <td>42</td>\n",
              "      <td>0.0</td>\n",
              "      <td>1115</td>\n",
              "      <td>2</td>\n",
              "      <td>3.0</td>\n",
              "      <td>3.0</td>\n",
              "      <td>7.36</td>\n",
              "      <td>2.0</td>\n",
              "      <td>1500.0</td>\n",
              "      <td>863.0</td>\n",
              "    </tr>\n",
              "    <tr>\n",
              "      <th>4</th>\n",
              "      <td>2</td>\n",
              "      <td>34</td>\n",
              "      <td>1.0</td>\n",
              "      <td>305</td>\n",
              "      <td>7</td>\n",
              "      <td>4.0</td>\n",
              "      <td>6.0</td>\n",
              "      <td>36.04</td>\n",
              "      <td>3.0</td>\n",
              "      <td>1595.0</td>\n",
              "      <td>697.0</td>\n",
              "    </tr>\n",
              "    <tr>\n",
              "      <th>...</th>\n",
              "      <td>...</td>\n",
              "      <td>...</td>\n",
              "      <td>...</td>\n",
              "      <td>...</td>\n",
              "      <td>...</td>\n",
              "      <td>...</td>\n",
              "      <td>...</td>\n",
              "      <td>...</td>\n",
              "      <td>...</td>\n",
              "      <td>...</td>\n",
              "      <td>...</td>\n",
              "    </tr>\n",
              "    <tr>\n",
              "      <th>179230</th>\n",
              "      <td>0</td>\n",
              "      <td>38</td>\n",
              "      <td>1.0</td>\n",
              "      <td>2000</td>\n",
              "      <td>6</td>\n",
              "      <td>1.0</td>\n",
              "      <td>3.0</td>\n",
              "      <td>9.40</td>\n",
              "      <td>3.0</td>\n",
              "      <td>2000.0</td>\n",
              "      <td>2300.0</td>\n",
              "    </tr>\n",
              "    <tr>\n",
              "      <th>179231</th>\n",
              "      <td>0</td>\n",
              "      <td>37</td>\n",
              "      <td>0.0</td>\n",
              "      <td>6215</td>\n",
              "      <td>0</td>\n",
              "      <td>4.0</td>\n",
              "      <td>3.0</td>\n",
              "      <td>69.77</td>\n",
              "      <td>4.0</td>\n",
              "      <td>7440.0</td>\n",
              "      <td>2172.0</td>\n",
              "    </tr>\n",
              "    <tr>\n",
              "      <th>179232</th>\n",
              "      <td>0</td>\n",
              "      <td>37</td>\n",
              "      <td>0.0</td>\n",
              "      <td>430</td>\n",
              "      <td>7</td>\n",
              "      <td>1.0</td>\n",
              "      <td>3.0</td>\n",
              "      <td>30.13</td>\n",
              "      <td>8.0</td>\n",
              "      <td>1595.0</td>\n",
              "      <td>1550.0</td>\n",
              "    </tr>\n",
              "    <tr>\n",
              "      <th>179233</th>\n",
              "      <td>0</td>\n",
              "      <td>58</td>\n",
              "      <td>1.0</td>\n",
              "      <td>3000</td>\n",
              "      <td>6</td>\n",
              "      <td>1.0</td>\n",
              "      <td>3.0</td>\n",
              "      <td>25.35</td>\n",
              "      <td>1.0</td>\n",
              "      <td>3000.0</td>\n",
              "      <td>350.0</td>\n",
              "    </tr>\n",
              "    <tr>\n",
              "      <th>179234</th>\n",
              "      <td>0</td>\n",
              "      <td>64</td>\n",
              "      <td>0.0</td>\n",
              "      <td>0</td>\n",
              "      <td>6</td>\n",
              "      <td>4.0</td>\n",
              "      <td>4.0</td>\n",
              "      <td>56.59</td>\n",
              "      <td>1.0</td>\n",
              "      <td>1300.0</td>\n",
              "      <td>867.0</td>\n",
              "    </tr>\n",
              "  </tbody>\n",
              "</table>\n",
              "<p>179235 rows × 11 columns</p>\n",
              "</div>\n",
              "      <button class=\"colab-df-convert\" onclick=\"convertToInteractive('df-04b871c6-abed-477e-bc7d-09c4e7b21ea7')\"\n",
              "              title=\"Convert this dataframe to an interactive table.\"\n",
              "              style=\"display:none;\">\n",
              "        \n",
              "  <svg xmlns=\"http://www.w3.org/2000/svg\" height=\"24px\"viewBox=\"0 0 24 24\"\n",
              "       width=\"24px\">\n",
              "    <path d=\"M0 0h24v24H0V0z\" fill=\"none\"/>\n",
              "    <path d=\"M18.56 5.44l.94 2.06.94-2.06 2.06-.94-2.06-.94-.94-2.06-.94 2.06-2.06.94zm-11 1L8.5 8.5l.94-2.06 2.06-.94-2.06-.94L8.5 2.5l-.94 2.06-2.06.94zm10 10l.94 2.06.94-2.06 2.06-.94-2.06-.94-.94-2.06-.94 2.06-2.06.94z\"/><path d=\"M17.41 7.96l-1.37-1.37c-.4-.4-.92-.59-1.43-.59-.52 0-1.04.2-1.43.59L10.3 9.45l-7.72 7.72c-.78.78-.78 2.05 0 2.83L4 21.41c.39.39.9.59 1.41.59.51 0 1.02-.2 1.41-.59l7.78-7.78 2.81-2.81c.8-.78.8-2.07 0-2.86zM5.41 20L4 18.59l7.72-7.72 1.47 1.35L5.41 20z\"/>\n",
              "  </svg>\n",
              "      </button>\n",
              "      \n",
              "  <style>\n",
              "    .colab-df-container {\n",
              "      display:flex;\n",
              "      flex-wrap:wrap;\n",
              "      gap: 12px;\n",
              "    }\n",
              "\n",
              "    .colab-df-convert {\n",
              "      background-color: #E8F0FE;\n",
              "      border: none;\n",
              "      border-radius: 50%;\n",
              "      cursor: pointer;\n",
              "      display: none;\n",
              "      fill: #1967D2;\n",
              "      height: 32px;\n",
              "      padding: 0 0 0 0;\n",
              "      width: 32px;\n",
              "    }\n",
              "\n",
              "    .colab-df-convert:hover {\n",
              "      background-color: #E2EBFA;\n",
              "      box-shadow: 0px 1px 2px rgba(60, 64, 67, 0.3), 0px 1px 3px 1px rgba(60, 64, 67, 0.15);\n",
              "      fill: #174EA6;\n",
              "    }\n",
              "\n",
              "    [theme=dark] .colab-df-convert {\n",
              "      background-color: #3B4455;\n",
              "      fill: #D2E3FC;\n",
              "    }\n",
              "\n",
              "    [theme=dark] .colab-df-convert:hover {\n",
              "      background-color: #434B5C;\n",
              "      box-shadow: 0px 1px 3px 1px rgba(0, 0, 0, 0.15);\n",
              "      filter: drop-shadow(0px 1px 2px rgba(0, 0, 0, 0.3));\n",
              "      fill: #FFFFFF;\n",
              "    }\n",
              "  </style>\n",
              "\n",
              "      <script>\n",
              "        const buttonEl =\n",
              "          document.querySelector('#df-04b871c6-abed-477e-bc7d-09c4e7b21ea7 button.colab-df-convert');\n",
              "        buttonEl.style.display =\n",
              "          google.colab.kernel.accessAllowed ? 'block' : 'none';\n",
              "\n",
              "        async function convertToInteractive(key) {\n",
              "          const element = document.querySelector('#df-04b871c6-abed-477e-bc7d-09c4e7b21ea7');\n",
              "          const dataTable =\n",
              "            await google.colab.kernel.invokeFunction('convertToInteractive',\n",
              "                                                     [key], {});\n",
              "          if (!dataTable) return;\n",
              "\n",
              "          const docLinkHtml = 'Like what you see? Visit the ' +\n",
              "            '<a target=\"_blank\" href=https://colab.research.google.com/notebooks/data_table.ipynb>data table notebook</a>'\n",
              "            + ' to learn more about interactive tables.';\n",
              "          element.innerHTML = '';\n",
              "          dataTable['output_type'] = 'display_data';\n",
              "          await google.colab.output.renderOutput(dataTable, element);\n",
              "          const docLink = document.createElement('div');\n",
              "          docLink.innerHTML = docLinkHtml;\n",
              "          element.appendChild(docLink);\n",
              "        }\n",
              "      </script>\n",
              "    </div>\n",
              "  </div>\n",
              "  "
            ]
          },
          "metadata": {},
          "execution_count": 205
        }
      ]
    },
    {
      "cell_type": "markdown",
      "source": [
        "#Transform Data with Median Value using Imputer"
      ],
      "metadata": {
        "id": "xptnIfqzVd4L"
      }
    },
    {
      "cell_type": "code",
      "source": [
        "names_num = df.columns\n",
        "imp_median = SimpleImputer(missing_values=np.nan, strategy='median')\n",
        "imp_median.fit(df)\n",
        "imp_data= imp_median.transform(df)\n",
        "df= pd.DataFrame(imp_data)\n",
        "df.columns= names_num"
      ],
      "metadata": {
        "id": "CsY5hU2Kv2Sm"
      },
      "execution_count": null,
      "outputs": []
    },
    {
      "cell_type": "code",
      "source": [
        "df"
      ],
      "metadata": {
        "colab": {
          "base_uri": "https://localhost:8080/",
          "height": 487
        },
        "id": "iEm94ytQwWB_",
        "outputId": "6577c964-35d3-4925-9a0b-e2f36293f7b1"
      },
      "execution_count": null,
      "outputs": [
        {
          "output_type": "execute_result",
          "data": {
            "text/plain": [
              "        NrOfDependants   Age  Gender  BidsPortfolioManager  UseOfLoan  \\\n",
              "0                  0.0  53.0     1.0                 970.0        2.0   \n",
              "1                  0.0  50.0     1.0                1295.0        3.0   \n",
              "2                  1.0  44.0     0.0                2700.0        3.0   \n",
              "3                  0.0  42.0     0.0                1115.0        2.0   \n",
              "4                  2.0  34.0     1.0                 305.0        7.0   \n",
              "...                ...   ...     ...                   ...        ...   \n",
              "179230             0.0  38.0     1.0                2000.0        6.0   \n",
              "179231             0.0  37.0     0.0                6215.0        0.0   \n",
              "179232             0.0  37.0     0.0                 430.0        7.0   \n",
              "179233             0.0  58.0     1.0                3000.0        6.0   \n",
              "179234             0.0  64.0     0.0                   0.0        6.0   \n",
              "\n",
              "        VerificationType  EmploymentStatus  DebtToIncome  HomeOwnershipType  \\\n",
              "0                    4.0               6.0         26.29                1.0   \n",
              "1                    1.0               5.0         30.58                1.0   \n",
              "2                    4.0               5.0         26.71                8.0   \n",
              "3                    3.0               3.0          7.36                2.0   \n",
              "4                    4.0               6.0         36.04                3.0   \n",
              "...                  ...               ...           ...                ...   \n",
              "179230               1.0               3.0          9.40                3.0   \n",
              "179231               4.0               3.0         69.77                4.0   \n",
              "179232               1.0               3.0         30.13                8.0   \n",
              "179233               1.0               3.0         25.35                1.0   \n",
              "179234               4.0               4.0         56.59                1.0   \n",
              "\n",
              "        AppliedAmount  IncomeTotal  \n",
              "0              2125.0        354.0  \n",
              "1              3000.0        900.0  \n",
              "2             10630.0       1200.0  \n",
              "3              1500.0        863.0  \n",
              "4              1595.0        697.0  \n",
              "...               ...          ...  \n",
              "179230         2000.0       2300.0  \n",
              "179231         7440.0       2172.0  \n",
              "179232         1595.0       1550.0  \n",
              "179233         3000.0        350.0  \n",
              "179234         1300.0        867.0  \n",
              "\n",
              "[179235 rows x 11 columns]"
            ],
            "text/html": [
              "\n",
              "  <div id=\"df-7e45380a-2b6d-42d7-84d2-b0e1e49d310e\">\n",
              "    <div class=\"colab-df-container\">\n",
              "      <div>\n",
              "<style scoped>\n",
              "    .dataframe tbody tr th:only-of-type {\n",
              "        vertical-align: middle;\n",
              "    }\n",
              "\n",
              "    .dataframe tbody tr th {\n",
              "        vertical-align: top;\n",
              "    }\n",
              "\n",
              "    .dataframe thead th {\n",
              "        text-align: right;\n",
              "    }\n",
              "</style>\n",
              "<table border=\"1\" class=\"dataframe\">\n",
              "  <thead>\n",
              "    <tr style=\"text-align: right;\">\n",
              "      <th></th>\n",
              "      <th>NrOfDependants</th>\n",
              "      <th>Age</th>\n",
              "      <th>Gender</th>\n",
              "      <th>BidsPortfolioManager</th>\n",
              "      <th>UseOfLoan</th>\n",
              "      <th>VerificationType</th>\n",
              "      <th>EmploymentStatus</th>\n",
              "      <th>DebtToIncome</th>\n",
              "      <th>HomeOwnershipType</th>\n",
              "      <th>AppliedAmount</th>\n",
              "      <th>IncomeTotal</th>\n",
              "    </tr>\n",
              "  </thead>\n",
              "  <tbody>\n",
              "    <tr>\n",
              "      <th>0</th>\n",
              "      <td>0.0</td>\n",
              "      <td>53.0</td>\n",
              "      <td>1.0</td>\n",
              "      <td>970.0</td>\n",
              "      <td>2.0</td>\n",
              "      <td>4.0</td>\n",
              "      <td>6.0</td>\n",
              "      <td>26.29</td>\n",
              "      <td>1.0</td>\n",
              "      <td>2125.0</td>\n",
              "      <td>354.0</td>\n",
              "    </tr>\n",
              "    <tr>\n",
              "      <th>1</th>\n",
              "      <td>0.0</td>\n",
              "      <td>50.0</td>\n",
              "      <td>1.0</td>\n",
              "      <td>1295.0</td>\n",
              "      <td>3.0</td>\n",
              "      <td>1.0</td>\n",
              "      <td>5.0</td>\n",
              "      <td>30.58</td>\n",
              "      <td>1.0</td>\n",
              "      <td>3000.0</td>\n",
              "      <td>900.0</td>\n",
              "    </tr>\n",
              "    <tr>\n",
              "      <th>2</th>\n",
              "      <td>1.0</td>\n",
              "      <td>44.0</td>\n",
              "      <td>0.0</td>\n",
              "      <td>2700.0</td>\n",
              "      <td>3.0</td>\n",
              "      <td>4.0</td>\n",
              "      <td>5.0</td>\n",
              "      <td>26.71</td>\n",
              "      <td>8.0</td>\n",
              "      <td>10630.0</td>\n",
              "      <td>1200.0</td>\n",
              "    </tr>\n",
              "    <tr>\n",
              "      <th>3</th>\n",
              "      <td>0.0</td>\n",
              "      <td>42.0</td>\n",
              "      <td>0.0</td>\n",
              "      <td>1115.0</td>\n",
              "      <td>2.0</td>\n",
              "      <td>3.0</td>\n",
              "      <td>3.0</td>\n",
              "      <td>7.36</td>\n",
              "      <td>2.0</td>\n",
              "      <td>1500.0</td>\n",
              "      <td>863.0</td>\n",
              "    </tr>\n",
              "    <tr>\n",
              "      <th>4</th>\n",
              "      <td>2.0</td>\n",
              "      <td>34.0</td>\n",
              "      <td>1.0</td>\n",
              "      <td>305.0</td>\n",
              "      <td>7.0</td>\n",
              "      <td>4.0</td>\n",
              "      <td>6.0</td>\n",
              "      <td>36.04</td>\n",
              "      <td>3.0</td>\n",
              "      <td>1595.0</td>\n",
              "      <td>697.0</td>\n",
              "    </tr>\n",
              "    <tr>\n",
              "      <th>...</th>\n",
              "      <td>...</td>\n",
              "      <td>...</td>\n",
              "      <td>...</td>\n",
              "      <td>...</td>\n",
              "      <td>...</td>\n",
              "      <td>...</td>\n",
              "      <td>...</td>\n",
              "      <td>...</td>\n",
              "      <td>...</td>\n",
              "      <td>...</td>\n",
              "      <td>...</td>\n",
              "    </tr>\n",
              "    <tr>\n",
              "      <th>179230</th>\n",
              "      <td>0.0</td>\n",
              "      <td>38.0</td>\n",
              "      <td>1.0</td>\n",
              "      <td>2000.0</td>\n",
              "      <td>6.0</td>\n",
              "      <td>1.0</td>\n",
              "      <td>3.0</td>\n",
              "      <td>9.40</td>\n",
              "      <td>3.0</td>\n",
              "      <td>2000.0</td>\n",
              "      <td>2300.0</td>\n",
              "    </tr>\n",
              "    <tr>\n",
              "      <th>179231</th>\n",
              "      <td>0.0</td>\n",
              "      <td>37.0</td>\n",
              "      <td>0.0</td>\n",
              "      <td>6215.0</td>\n",
              "      <td>0.0</td>\n",
              "      <td>4.0</td>\n",
              "      <td>3.0</td>\n",
              "      <td>69.77</td>\n",
              "      <td>4.0</td>\n",
              "      <td>7440.0</td>\n",
              "      <td>2172.0</td>\n",
              "    </tr>\n",
              "    <tr>\n",
              "      <th>179232</th>\n",
              "      <td>0.0</td>\n",
              "      <td>37.0</td>\n",
              "      <td>0.0</td>\n",
              "      <td>430.0</td>\n",
              "      <td>7.0</td>\n",
              "      <td>1.0</td>\n",
              "      <td>3.0</td>\n",
              "      <td>30.13</td>\n",
              "      <td>8.0</td>\n",
              "      <td>1595.0</td>\n",
              "      <td>1550.0</td>\n",
              "    </tr>\n",
              "    <tr>\n",
              "      <th>179233</th>\n",
              "      <td>0.0</td>\n",
              "      <td>58.0</td>\n",
              "      <td>1.0</td>\n",
              "      <td>3000.0</td>\n",
              "      <td>6.0</td>\n",
              "      <td>1.0</td>\n",
              "      <td>3.0</td>\n",
              "      <td>25.35</td>\n",
              "      <td>1.0</td>\n",
              "      <td>3000.0</td>\n",
              "      <td>350.0</td>\n",
              "    </tr>\n",
              "    <tr>\n",
              "      <th>179234</th>\n",
              "      <td>0.0</td>\n",
              "      <td>64.0</td>\n",
              "      <td>0.0</td>\n",
              "      <td>0.0</td>\n",
              "      <td>6.0</td>\n",
              "      <td>4.0</td>\n",
              "      <td>4.0</td>\n",
              "      <td>56.59</td>\n",
              "      <td>1.0</td>\n",
              "      <td>1300.0</td>\n",
              "      <td>867.0</td>\n",
              "    </tr>\n",
              "  </tbody>\n",
              "</table>\n",
              "<p>179235 rows × 11 columns</p>\n",
              "</div>\n",
              "      <button class=\"colab-df-convert\" onclick=\"convertToInteractive('df-7e45380a-2b6d-42d7-84d2-b0e1e49d310e')\"\n",
              "              title=\"Convert this dataframe to an interactive table.\"\n",
              "              style=\"display:none;\">\n",
              "        \n",
              "  <svg xmlns=\"http://www.w3.org/2000/svg\" height=\"24px\"viewBox=\"0 0 24 24\"\n",
              "       width=\"24px\">\n",
              "    <path d=\"M0 0h24v24H0V0z\" fill=\"none\"/>\n",
              "    <path d=\"M18.56 5.44l.94 2.06.94-2.06 2.06-.94-2.06-.94-.94-2.06-.94 2.06-2.06.94zm-11 1L8.5 8.5l.94-2.06 2.06-.94-2.06-.94L8.5 2.5l-.94 2.06-2.06.94zm10 10l.94 2.06.94-2.06 2.06-.94-2.06-.94-.94-2.06-.94 2.06-2.06.94z\"/><path d=\"M17.41 7.96l-1.37-1.37c-.4-.4-.92-.59-1.43-.59-.52 0-1.04.2-1.43.59L10.3 9.45l-7.72 7.72c-.78.78-.78 2.05 0 2.83L4 21.41c.39.39.9.59 1.41.59.51 0 1.02-.2 1.41-.59l7.78-7.78 2.81-2.81c.8-.78.8-2.07 0-2.86zM5.41 20L4 18.59l7.72-7.72 1.47 1.35L5.41 20z\"/>\n",
              "  </svg>\n",
              "      </button>\n",
              "      \n",
              "  <style>\n",
              "    .colab-df-container {\n",
              "      display:flex;\n",
              "      flex-wrap:wrap;\n",
              "      gap: 12px;\n",
              "    }\n",
              "\n",
              "    .colab-df-convert {\n",
              "      background-color: #E8F0FE;\n",
              "      border: none;\n",
              "      border-radius: 50%;\n",
              "      cursor: pointer;\n",
              "      display: none;\n",
              "      fill: #1967D2;\n",
              "      height: 32px;\n",
              "      padding: 0 0 0 0;\n",
              "      width: 32px;\n",
              "    }\n",
              "\n",
              "    .colab-df-convert:hover {\n",
              "      background-color: #E2EBFA;\n",
              "      box-shadow: 0px 1px 2px rgba(60, 64, 67, 0.3), 0px 1px 3px 1px rgba(60, 64, 67, 0.15);\n",
              "      fill: #174EA6;\n",
              "    }\n",
              "\n",
              "    [theme=dark] .colab-df-convert {\n",
              "      background-color: #3B4455;\n",
              "      fill: #D2E3FC;\n",
              "    }\n",
              "\n",
              "    [theme=dark] .colab-df-convert:hover {\n",
              "      background-color: #434B5C;\n",
              "      box-shadow: 0px 1px 3px 1px rgba(0, 0, 0, 0.15);\n",
              "      filter: drop-shadow(0px 1px 2px rgba(0, 0, 0, 0.3));\n",
              "      fill: #FFFFFF;\n",
              "    }\n",
              "  </style>\n",
              "\n",
              "      <script>\n",
              "        const buttonEl =\n",
              "          document.querySelector('#df-7e45380a-2b6d-42d7-84d2-b0e1e49d310e button.colab-df-convert');\n",
              "        buttonEl.style.display =\n",
              "          google.colab.kernel.accessAllowed ? 'block' : 'none';\n",
              "\n",
              "        async function convertToInteractive(key) {\n",
              "          const element = document.querySelector('#df-7e45380a-2b6d-42d7-84d2-b0e1e49d310e');\n",
              "          const dataTable =\n",
              "            await google.colab.kernel.invokeFunction('convertToInteractive',\n",
              "                                                     [key], {});\n",
              "          if (!dataTable) return;\n",
              "\n",
              "          const docLinkHtml = 'Like what you see? Visit the ' +\n",
              "            '<a target=\"_blank\" href=https://colab.research.google.com/notebooks/data_table.ipynb>data table notebook</a>'\n",
              "            + ' to learn more about interactive tables.';\n",
              "          element.innerHTML = '';\n",
              "          dataTable['output_type'] = 'display_data';\n",
              "          await google.colab.output.renderOutput(dataTable, element);\n",
              "          const docLink = document.createElement('div');\n",
              "          docLink.innerHTML = docLinkHtml;\n",
              "          element.appendChild(docLink);\n",
              "        }\n",
              "      </script>\n",
              "    </div>\n",
              "  </div>\n",
              "  "
            ]
          },
          "metadata": {},
          "execution_count": 207
        }
      ]
    },
    {
      "cell_type": "code",
      "source": [
        "df.describe().transpose()"
      ],
      "metadata": {
        "colab": {
          "base_uri": "https://localhost:8080/",
          "height": 394
        },
        "id": "ZcpU1ACuwh01",
        "outputId": "8c89ca63-8322-4e2f-95b2-436f832495da"
      },
      "execution_count": null,
      "outputs": [
        {
          "output_type": "execute_result",
          "data": {
            "text/plain": [
              "                         count         mean          std   min    25%     50%  \\\n",
              "NrOfDependants        179235.0     0.143655     0.531998   0.0    0.0     0.0   \n",
              "Age                   179235.0    40.389137    12.359547   0.0   31.0    39.0   \n",
              "Gender                179235.0     0.466683     0.620325   0.0    0.0     0.0   \n",
              "BidsPortfolioManager  179235.0   797.962530  1235.509764   0.0  105.0   336.0   \n",
              "UseOfLoan             179235.0     0.008213     2.927697  -1.0   -1.0    -1.0   \n",
              "VerificationType      179235.0     3.043669     1.352410   0.0    1.0     4.0   \n",
              "EmploymentStatus      179235.0    -0.135320     1.752806  -1.0   -1.0    -1.0   \n",
              "DebtToIncome          179235.0     5.829271    14.480169   0.0    0.0     0.0   \n",
              "HomeOwnershipType     179235.0     3.306670     2.885529  -1.0    1.0     2.0   \n",
              "AppliedAmount         179235.0  2699.127966  2342.758228  10.0  740.0  2125.0   \n",
              "IncomeTotal           179235.0  1763.367686  8127.175901   0.0  874.0  1230.0   \n",
              "\n",
              "                         75%         max  \n",
              "NrOfDependants           0.0       10.00  \n",
              "Age                     49.0       77.00  \n",
              "Gender                   1.0        2.00  \n",
              "BidsPortfolioManager   960.0    10625.00  \n",
              "UseOfLoan               -1.0      110.00  \n",
              "VerificationType         4.0        4.00  \n",
              "EmploymentStatus        -1.0        6.00  \n",
              "DebtToIncome             0.0      198.02  \n",
              "HomeOwnershipType        3.0       10.00  \n",
              "AppliedAmount         4150.0    10632.00  \n",
              "IncomeTotal           1900.0  1012019.00  "
            ],
            "text/html": [
              "\n",
              "  <div id=\"df-1cd51176-209c-4e54-abd7-e388666da53b\">\n",
              "    <div class=\"colab-df-container\">\n",
              "      <div>\n",
              "<style scoped>\n",
              "    .dataframe tbody tr th:only-of-type {\n",
              "        vertical-align: middle;\n",
              "    }\n",
              "\n",
              "    .dataframe tbody tr th {\n",
              "        vertical-align: top;\n",
              "    }\n",
              "\n",
              "    .dataframe thead th {\n",
              "        text-align: right;\n",
              "    }\n",
              "</style>\n",
              "<table border=\"1\" class=\"dataframe\">\n",
              "  <thead>\n",
              "    <tr style=\"text-align: right;\">\n",
              "      <th></th>\n",
              "      <th>count</th>\n",
              "      <th>mean</th>\n",
              "      <th>std</th>\n",
              "      <th>min</th>\n",
              "      <th>25%</th>\n",
              "      <th>50%</th>\n",
              "      <th>75%</th>\n",
              "      <th>max</th>\n",
              "    </tr>\n",
              "  </thead>\n",
              "  <tbody>\n",
              "    <tr>\n",
              "      <th>NrOfDependants</th>\n",
              "      <td>179235.0</td>\n",
              "      <td>0.143655</td>\n",
              "      <td>0.531998</td>\n",
              "      <td>0.0</td>\n",
              "      <td>0.0</td>\n",
              "      <td>0.0</td>\n",
              "      <td>0.0</td>\n",
              "      <td>10.00</td>\n",
              "    </tr>\n",
              "    <tr>\n",
              "      <th>Age</th>\n",
              "      <td>179235.0</td>\n",
              "      <td>40.389137</td>\n",
              "      <td>12.359547</td>\n",
              "      <td>0.0</td>\n",
              "      <td>31.0</td>\n",
              "      <td>39.0</td>\n",
              "      <td>49.0</td>\n",
              "      <td>77.00</td>\n",
              "    </tr>\n",
              "    <tr>\n",
              "      <th>Gender</th>\n",
              "      <td>179235.0</td>\n",
              "      <td>0.466683</td>\n",
              "      <td>0.620325</td>\n",
              "      <td>0.0</td>\n",
              "      <td>0.0</td>\n",
              "      <td>0.0</td>\n",
              "      <td>1.0</td>\n",
              "      <td>2.00</td>\n",
              "    </tr>\n",
              "    <tr>\n",
              "      <th>BidsPortfolioManager</th>\n",
              "      <td>179235.0</td>\n",
              "      <td>797.962530</td>\n",
              "      <td>1235.509764</td>\n",
              "      <td>0.0</td>\n",
              "      <td>105.0</td>\n",
              "      <td>336.0</td>\n",
              "      <td>960.0</td>\n",
              "      <td>10625.00</td>\n",
              "    </tr>\n",
              "    <tr>\n",
              "      <th>UseOfLoan</th>\n",
              "      <td>179235.0</td>\n",
              "      <td>0.008213</td>\n",
              "      <td>2.927697</td>\n",
              "      <td>-1.0</td>\n",
              "      <td>-1.0</td>\n",
              "      <td>-1.0</td>\n",
              "      <td>-1.0</td>\n",
              "      <td>110.00</td>\n",
              "    </tr>\n",
              "    <tr>\n",
              "      <th>VerificationType</th>\n",
              "      <td>179235.0</td>\n",
              "      <td>3.043669</td>\n",
              "      <td>1.352410</td>\n",
              "      <td>0.0</td>\n",
              "      <td>1.0</td>\n",
              "      <td>4.0</td>\n",
              "      <td>4.0</td>\n",
              "      <td>4.00</td>\n",
              "    </tr>\n",
              "    <tr>\n",
              "      <th>EmploymentStatus</th>\n",
              "      <td>179235.0</td>\n",
              "      <td>-0.135320</td>\n",
              "      <td>1.752806</td>\n",
              "      <td>-1.0</td>\n",
              "      <td>-1.0</td>\n",
              "      <td>-1.0</td>\n",
              "      <td>-1.0</td>\n",
              "      <td>6.00</td>\n",
              "    </tr>\n",
              "    <tr>\n",
              "      <th>DebtToIncome</th>\n",
              "      <td>179235.0</td>\n",
              "      <td>5.829271</td>\n",
              "      <td>14.480169</td>\n",
              "      <td>0.0</td>\n",
              "      <td>0.0</td>\n",
              "      <td>0.0</td>\n",
              "      <td>0.0</td>\n",
              "      <td>198.02</td>\n",
              "    </tr>\n",
              "    <tr>\n",
              "      <th>HomeOwnershipType</th>\n",
              "      <td>179235.0</td>\n",
              "      <td>3.306670</td>\n",
              "      <td>2.885529</td>\n",
              "      <td>-1.0</td>\n",
              "      <td>1.0</td>\n",
              "      <td>2.0</td>\n",
              "      <td>3.0</td>\n",
              "      <td>10.00</td>\n",
              "    </tr>\n",
              "    <tr>\n",
              "      <th>AppliedAmount</th>\n",
              "      <td>179235.0</td>\n",
              "      <td>2699.127966</td>\n",
              "      <td>2342.758228</td>\n",
              "      <td>10.0</td>\n",
              "      <td>740.0</td>\n",
              "      <td>2125.0</td>\n",
              "      <td>4150.0</td>\n",
              "      <td>10632.00</td>\n",
              "    </tr>\n",
              "    <tr>\n",
              "      <th>IncomeTotal</th>\n",
              "      <td>179235.0</td>\n",
              "      <td>1763.367686</td>\n",
              "      <td>8127.175901</td>\n",
              "      <td>0.0</td>\n",
              "      <td>874.0</td>\n",
              "      <td>1230.0</td>\n",
              "      <td>1900.0</td>\n",
              "      <td>1012019.00</td>\n",
              "    </tr>\n",
              "  </tbody>\n",
              "</table>\n",
              "</div>\n",
              "      <button class=\"colab-df-convert\" onclick=\"convertToInteractive('df-1cd51176-209c-4e54-abd7-e388666da53b')\"\n",
              "              title=\"Convert this dataframe to an interactive table.\"\n",
              "              style=\"display:none;\">\n",
              "        \n",
              "  <svg xmlns=\"http://www.w3.org/2000/svg\" height=\"24px\"viewBox=\"0 0 24 24\"\n",
              "       width=\"24px\">\n",
              "    <path d=\"M0 0h24v24H0V0z\" fill=\"none\"/>\n",
              "    <path d=\"M18.56 5.44l.94 2.06.94-2.06 2.06-.94-2.06-.94-.94-2.06-.94 2.06-2.06.94zm-11 1L8.5 8.5l.94-2.06 2.06-.94-2.06-.94L8.5 2.5l-.94 2.06-2.06.94zm10 10l.94 2.06.94-2.06 2.06-.94-2.06-.94-.94-2.06-.94 2.06-2.06.94z\"/><path d=\"M17.41 7.96l-1.37-1.37c-.4-.4-.92-.59-1.43-.59-.52 0-1.04.2-1.43.59L10.3 9.45l-7.72 7.72c-.78.78-.78 2.05 0 2.83L4 21.41c.39.39.9.59 1.41.59.51 0 1.02-.2 1.41-.59l7.78-7.78 2.81-2.81c.8-.78.8-2.07 0-2.86zM5.41 20L4 18.59l7.72-7.72 1.47 1.35L5.41 20z\"/>\n",
              "  </svg>\n",
              "      </button>\n",
              "      \n",
              "  <style>\n",
              "    .colab-df-container {\n",
              "      display:flex;\n",
              "      flex-wrap:wrap;\n",
              "      gap: 12px;\n",
              "    }\n",
              "\n",
              "    .colab-df-convert {\n",
              "      background-color: #E8F0FE;\n",
              "      border: none;\n",
              "      border-radius: 50%;\n",
              "      cursor: pointer;\n",
              "      display: none;\n",
              "      fill: #1967D2;\n",
              "      height: 32px;\n",
              "      padding: 0 0 0 0;\n",
              "      width: 32px;\n",
              "    }\n",
              "\n",
              "    .colab-df-convert:hover {\n",
              "      background-color: #E2EBFA;\n",
              "      box-shadow: 0px 1px 2px rgba(60, 64, 67, 0.3), 0px 1px 3px 1px rgba(60, 64, 67, 0.15);\n",
              "      fill: #174EA6;\n",
              "    }\n",
              "\n",
              "    [theme=dark] .colab-df-convert {\n",
              "      background-color: #3B4455;\n",
              "      fill: #D2E3FC;\n",
              "    }\n",
              "\n",
              "    [theme=dark] .colab-df-convert:hover {\n",
              "      background-color: #434B5C;\n",
              "      box-shadow: 0px 1px 3px 1px rgba(0, 0, 0, 0.15);\n",
              "      filter: drop-shadow(0px 1px 2px rgba(0, 0, 0, 0.3));\n",
              "      fill: #FFFFFF;\n",
              "    }\n",
              "  </style>\n",
              "\n",
              "      <script>\n",
              "        const buttonEl =\n",
              "          document.querySelector('#df-1cd51176-209c-4e54-abd7-e388666da53b button.colab-df-convert');\n",
              "        buttonEl.style.display =\n",
              "          google.colab.kernel.accessAllowed ? 'block' : 'none';\n",
              "\n",
              "        async function convertToInteractive(key) {\n",
              "          const element = document.querySelector('#df-1cd51176-209c-4e54-abd7-e388666da53b');\n",
              "          const dataTable =\n",
              "            await google.colab.kernel.invokeFunction('convertToInteractive',\n",
              "                                                     [key], {});\n",
              "          if (!dataTable) return;\n",
              "\n",
              "          const docLinkHtml = 'Like what you see? Visit the ' +\n",
              "            '<a target=\"_blank\" href=https://colab.research.google.com/notebooks/data_table.ipynb>data table notebook</a>'\n",
              "            + ' to learn more about interactive tables.';\n",
              "          element.innerHTML = '';\n",
              "          dataTable['output_type'] = 'display_data';\n",
              "          await google.colab.output.renderOutput(dataTable, element);\n",
              "          const docLink = document.createElement('div');\n",
              "          docLink.innerHTML = docLinkHtml;\n",
              "          element.appendChild(docLink);\n",
              "        }\n",
              "      </script>\n",
              "    </div>\n",
              "  </div>\n",
              "  "
            ]
          },
          "metadata": {},
          "execution_count": 208
        }
      ]
    },
    {
      "cell_type": "markdown",
      "source": [
        "#Normalize Numeric Data using Z Score Normalizer"
      ],
      "metadata": {
        "id": "kvNn4-dwVuE1"
      }
    },
    {
      "cell_type": "code",
      "source": [
        "def z_score_normalizer(X):\n",
        "    m = X.shape[0]\n",
        "    n = 1\n",
        "    for i in range(n):\n",
        "        X = (X - X.mean(axis=0))/X.std(axis=0)\n",
        "    return X"
      ],
      "metadata": {
        "id": "ljyvxP4Dwsca"
      },
      "execution_count": null,
      "outputs": []
    },
    {
      "cell_type": "code",
      "source": [
        "df = z_score_normalizer(df)"
      ],
      "metadata": {
        "id": "jzcWvvRS1eo-"
      },
      "execution_count": null,
      "outputs": []
    },
    {
      "cell_type": "markdown",
      "source": [
        "#Target Selection"
      ],
      "metadata": {
        "id": "3ZDesTZgWG1L"
      }
    },
    {
      "cell_type": "code",
      "source": [
        "Y= object_data['Rating_V2']\n",
        "object_data = object_data.drop(['Rating_V2'],axis=1)\n",
        "Y= encoder_1.inverse_transform(Y)\n",
        "Y= pd.DataFrame(Y, columns=['Rating_V2'])\n",
        "Y.Rating_V2.unique()"
      ],
      "metadata": {
        "colab": {
          "base_uri": "https://localhost:8080/"
        },
        "id": "buzXIEYxxkx8",
        "outputId": "d43fbc4b-da8b-4a3a-af0d-378a5d526a7e"
      },
      "execution_count": null,
      "outputs": [
        {
          "output_type": "execute_result",
          "data": {
            "text/plain": [
              "array(['C', 'B', 'A', 'HR', 'F', 'D', 'E', 'AA', 'unknown'], dtype=object)"
            ]
          },
          "metadata": {},
          "execution_count": 211
        }
      ]
    },
    {
      "cell_type": "code",
      "source": [
        "Y= Y.loc[Y.Rating_V2!='unknown']\n",
        "Y= Y.replace(['C', 'B', 'A', 'HR', 'F', 'D', 'E', 'AA'],[0,1,2,3,4,5,6,7])\n",
        "# Y= Y.astype(float)\n",
        "# mean_value = np.nanmean(Y.Rating_V2)\n",
        "# Y= Y.fillna(mean_value)\n",
        "Y"
      ],
      "metadata": {
        "id": "uviPpeu1zFF_",
        "colab": {
          "base_uri": "https://localhost:8080/",
          "height": 423
        },
        "outputId": "dd0c7d6e-315e-4423-ee2d-aff9d45e9f09"
      },
      "execution_count": null,
      "outputs": [
        {
          "output_type": "execute_result",
          "data": {
            "text/plain": [
              "        Rating_V2\n",
              "0               0\n",
              "1               1\n",
              "2               2\n",
              "3               3\n",
              "4               3\n",
              "...           ...\n",
              "179230          3\n",
              "179231          5\n",
              "179232          3\n",
              "179233          5\n",
              "179234          7\n",
              "\n",
              "[25143 rows x 1 columns]"
            ],
            "text/html": [
              "\n",
              "  <div id=\"df-ce4d0a7f-6ee7-4af8-b400-293ae3406491\">\n",
              "    <div class=\"colab-df-container\">\n",
              "      <div>\n",
              "<style scoped>\n",
              "    .dataframe tbody tr th:only-of-type {\n",
              "        vertical-align: middle;\n",
              "    }\n",
              "\n",
              "    .dataframe tbody tr th {\n",
              "        vertical-align: top;\n",
              "    }\n",
              "\n",
              "    .dataframe thead th {\n",
              "        text-align: right;\n",
              "    }\n",
              "</style>\n",
              "<table border=\"1\" class=\"dataframe\">\n",
              "  <thead>\n",
              "    <tr style=\"text-align: right;\">\n",
              "      <th></th>\n",
              "      <th>Rating_V2</th>\n",
              "    </tr>\n",
              "  </thead>\n",
              "  <tbody>\n",
              "    <tr>\n",
              "      <th>0</th>\n",
              "      <td>0</td>\n",
              "    </tr>\n",
              "    <tr>\n",
              "      <th>1</th>\n",
              "      <td>1</td>\n",
              "    </tr>\n",
              "    <tr>\n",
              "      <th>2</th>\n",
              "      <td>2</td>\n",
              "    </tr>\n",
              "    <tr>\n",
              "      <th>3</th>\n",
              "      <td>3</td>\n",
              "    </tr>\n",
              "    <tr>\n",
              "      <th>4</th>\n",
              "      <td>3</td>\n",
              "    </tr>\n",
              "    <tr>\n",
              "      <th>...</th>\n",
              "      <td>...</td>\n",
              "    </tr>\n",
              "    <tr>\n",
              "      <th>179230</th>\n",
              "      <td>3</td>\n",
              "    </tr>\n",
              "    <tr>\n",
              "      <th>179231</th>\n",
              "      <td>5</td>\n",
              "    </tr>\n",
              "    <tr>\n",
              "      <th>179232</th>\n",
              "      <td>3</td>\n",
              "    </tr>\n",
              "    <tr>\n",
              "      <th>179233</th>\n",
              "      <td>5</td>\n",
              "    </tr>\n",
              "    <tr>\n",
              "      <th>179234</th>\n",
              "      <td>7</td>\n",
              "    </tr>\n",
              "  </tbody>\n",
              "</table>\n",
              "<p>25143 rows × 1 columns</p>\n",
              "</div>\n",
              "      <button class=\"colab-df-convert\" onclick=\"convertToInteractive('df-ce4d0a7f-6ee7-4af8-b400-293ae3406491')\"\n",
              "              title=\"Convert this dataframe to an interactive table.\"\n",
              "              style=\"display:none;\">\n",
              "        \n",
              "  <svg xmlns=\"http://www.w3.org/2000/svg\" height=\"24px\"viewBox=\"0 0 24 24\"\n",
              "       width=\"24px\">\n",
              "    <path d=\"M0 0h24v24H0V0z\" fill=\"none\"/>\n",
              "    <path d=\"M18.56 5.44l.94 2.06.94-2.06 2.06-.94-2.06-.94-.94-2.06-.94 2.06-2.06.94zm-11 1L8.5 8.5l.94-2.06 2.06-.94-2.06-.94L8.5 2.5l-.94 2.06-2.06.94zm10 10l.94 2.06.94-2.06 2.06-.94-2.06-.94-.94-2.06-.94 2.06-2.06.94z\"/><path d=\"M17.41 7.96l-1.37-1.37c-.4-.4-.92-.59-1.43-.59-.52 0-1.04.2-1.43.59L10.3 9.45l-7.72 7.72c-.78.78-.78 2.05 0 2.83L4 21.41c.39.39.9.59 1.41.59.51 0 1.02-.2 1.41-.59l7.78-7.78 2.81-2.81c.8-.78.8-2.07 0-2.86zM5.41 20L4 18.59l7.72-7.72 1.47 1.35L5.41 20z\"/>\n",
              "  </svg>\n",
              "      </button>\n",
              "      \n",
              "  <style>\n",
              "    .colab-df-container {\n",
              "      display:flex;\n",
              "      flex-wrap:wrap;\n",
              "      gap: 12px;\n",
              "    }\n",
              "\n",
              "    .colab-df-convert {\n",
              "      background-color: #E8F0FE;\n",
              "      border: none;\n",
              "      border-radius: 50%;\n",
              "      cursor: pointer;\n",
              "      display: none;\n",
              "      fill: #1967D2;\n",
              "      height: 32px;\n",
              "      padding: 0 0 0 0;\n",
              "      width: 32px;\n",
              "    }\n",
              "\n",
              "    .colab-df-convert:hover {\n",
              "      background-color: #E2EBFA;\n",
              "      box-shadow: 0px 1px 2px rgba(60, 64, 67, 0.3), 0px 1px 3px 1px rgba(60, 64, 67, 0.15);\n",
              "      fill: #174EA6;\n",
              "    }\n",
              "\n",
              "    [theme=dark] .colab-df-convert {\n",
              "      background-color: #3B4455;\n",
              "      fill: #D2E3FC;\n",
              "    }\n",
              "\n",
              "    [theme=dark] .colab-df-convert:hover {\n",
              "      background-color: #434B5C;\n",
              "      box-shadow: 0px 1px 3px 1px rgba(0, 0, 0, 0.15);\n",
              "      filter: drop-shadow(0px 1px 2px rgba(0, 0, 0, 0.3));\n",
              "      fill: #FFFFFF;\n",
              "    }\n",
              "  </style>\n",
              "\n",
              "      <script>\n",
              "        const buttonEl =\n",
              "          document.querySelector('#df-ce4d0a7f-6ee7-4af8-b400-293ae3406491 button.colab-df-convert');\n",
              "        buttonEl.style.display =\n",
              "          google.colab.kernel.accessAllowed ? 'block' : 'none';\n",
              "\n",
              "        async function convertToInteractive(key) {\n",
              "          const element = document.querySelector('#df-ce4d0a7f-6ee7-4af8-b400-293ae3406491');\n",
              "          const dataTable =\n",
              "            await google.colab.kernel.invokeFunction('convertToInteractive',\n",
              "                                                     [key], {});\n",
              "          if (!dataTable) return;\n",
              "\n",
              "          const docLinkHtml = 'Like what you see? Visit the ' +\n",
              "            '<a target=\"_blank\" href=https://colab.research.google.com/notebooks/data_table.ipynb>data table notebook</a>'\n",
              "            + ' to learn more about interactive tables.';\n",
              "          element.innerHTML = '';\n",
              "          dataTable['output_type'] = 'display_data';\n",
              "          await google.colab.output.renderOutput(dataTable, element);\n",
              "          const docLink = document.createElement('div');\n",
              "          docLink.innerHTML = docLinkHtml;\n",
              "          element.appendChild(docLink);\n",
              "        }\n",
              "      </script>\n",
              "    </div>\n",
              "  </div>\n",
              "  "
            ]
          },
          "metadata": {},
          "execution_count": 212
        }
      ]
    },
    {
      "cell_type": "markdown",
      "source": [],
      "metadata": {
        "id": "3PjQjT5FAzV0"
      }
    },
    {
      "cell_type": "code",
      "source": [
        "Y.isnull().values.any()"
      ],
      "metadata": {
        "colab": {
          "base_uri": "https://localhost:8080/"
        },
        "id": "QyS48l5Tz2Z9",
        "outputId": "b9380aff-6d64-4239-edeb-a816e2841ee2"
      },
      "execution_count": null,
      "outputs": [
        {
          "output_type": "execute_result",
          "data": {
            "text/plain": [
              "False"
            ]
          },
          "metadata": {},
          "execution_count": 213
        }
      ]
    },
    {
      "cell_type": "markdown",
      "source": [
        "#Concatenate Boolean, Object, Numerical Data"
      ],
      "metadata": {
        "id": "iHQlHwa0WTU2"
      }
    },
    {
      "cell_type": "code",
      "source": [
        "all_data = pd.concat([object_data,df,Y], axis=1)\n",
        "column_means = np.nanmean(all_data['Rating_V2'], axis=0)\n",
        "missing_indices = np.isnan(all_data['Rating_V2'])\n",
        "all_data[missing_indices]= np.take(column_means, missing_indices[1])\n",
        "all_data['Rating_V2'] = pd.to_numeric(all_data['Rating_V2'], errors='coerce')\n",
        "all_data['Rating_V2'] = all_data['Rating_V2'].round().astype('Int64')\n",
        "all_data\n",
        "# all_data = all_data.dropna()"
      ],
      "metadata": {
        "id": "RZFOiAdQ05xp",
        "colab": {
          "base_uri": "https://localhost:8080/",
          "height": 487
        },
        "outputId": "12a59496-4475-4e26-9c3e-9c4b024a34ff"
      },
      "execution_count": null,
      "outputs": [
        {
          "output_type": "execute_result",
          "data": {
            "text/plain": [
              "          LoanId  UserName  Restructured  NrOfDependants       Age    Gender  \\\n",
              "0        71936.0  195517.0           0.0       -0.270029  1.020334  0.859737   \n",
              "1       227690.0  205590.0           0.0       -0.270029  0.777606  0.859737   \n",
              "2        94698.0  189172.0           0.0        1.609677  0.292152 -0.752321   \n",
              "3        94639.0  187079.0           0.0       -0.270029  0.130333 -0.752321   \n",
              "4        32037.0  209809.0           0.0        3.489382 -0.516939  0.859737   \n",
              "...          ...       ...           ...             ...       ...       ...   \n",
              "179230  233682.0  177914.0           0.0       -0.270029 -0.193303  0.859737   \n",
              "179231    6595.0  169463.0           0.0       -0.270029 -0.274212 -0.752321   \n",
              "179232   38469.0  178862.0           0.0       -0.270029 -0.274212 -0.752321   \n",
              "179233  106953.0  194896.0           0.0       -0.270029  1.424879  0.859737   \n",
              "179234   71309.0  261810.0           1.0       -0.270029  1.910334 -0.752321   \n",
              "\n",
              "        BidsPortfolioManager  UseOfLoan  VerificationType  EmploymentStatus  \\\n",
              "0                   0.139244   0.680326          0.707131          3.500284   \n",
              "1                   0.402293   1.021891         -1.511131          2.929770   \n",
              "2                   1.539476   1.021891          0.707131          2.929770   \n",
              "3                   0.256605   0.680326         -0.032290          1.788743   \n",
              "4                  -0.398995   2.388153          0.707131          3.500284   \n",
              "...                      ...        ...               ...               ...   \n",
              "179230              0.972908   2.046587         -1.511131          1.788743   \n",
              "179231              4.384455  -0.002805          0.707131          1.788743   \n",
              "179232             -0.297822   2.388153         -1.511131          1.788743   \n",
              "179233              1.782291   2.046587         -1.511131          1.788743   \n",
              "179234             -0.645857   2.046587          0.707131          2.359256   \n",
              "\n",
              "        DebtToIncome  HomeOwnershipType  AppliedAmount  IncomeTotal  Rating_V2  \n",
              "0           1.413017          -0.799393      -0.245065    -0.173414          0  \n",
              "1           1.709284          -0.799393       0.128426    -0.106232          1  \n",
              "2           1.442022           1.626506       3.385271    -0.069319          2  \n",
              "3           0.105712          -0.452836      -0.511845    -0.110785          3  \n",
              "4           2.086352          -0.106279      -0.471294    -0.131210          3  \n",
              "...              ...                ...            ...          ...        ...  \n",
              "179230      0.246594          -0.106279      -0.298421     0.066029          3  \n",
              "179231      4.415745           0.240278       2.023628     0.050280          5  \n",
              "179232      1.678208           1.626506      -0.471294    -0.026254          3  \n",
              "179233      1.348101          -0.799393       0.128426    -0.173906          5  \n",
              "179234      3.505534          -0.799393      -0.597214    -0.110293          7  \n",
              "\n",
              "[179235 rows x 15 columns]"
            ],
            "text/html": [
              "\n",
              "  <div id=\"df-ced6dd82-bce6-4748-b262-c0209f95cfc1\">\n",
              "    <div class=\"colab-df-container\">\n",
              "      <div>\n",
              "<style scoped>\n",
              "    .dataframe tbody tr th:only-of-type {\n",
              "        vertical-align: middle;\n",
              "    }\n",
              "\n",
              "    .dataframe tbody tr th {\n",
              "        vertical-align: top;\n",
              "    }\n",
              "\n",
              "    .dataframe thead th {\n",
              "        text-align: right;\n",
              "    }\n",
              "</style>\n",
              "<table border=\"1\" class=\"dataframe\">\n",
              "  <thead>\n",
              "    <tr style=\"text-align: right;\">\n",
              "      <th></th>\n",
              "      <th>LoanId</th>\n",
              "      <th>UserName</th>\n",
              "      <th>Restructured</th>\n",
              "      <th>NrOfDependants</th>\n",
              "      <th>Age</th>\n",
              "      <th>Gender</th>\n",
              "      <th>BidsPortfolioManager</th>\n",
              "      <th>UseOfLoan</th>\n",
              "      <th>VerificationType</th>\n",
              "      <th>EmploymentStatus</th>\n",
              "      <th>DebtToIncome</th>\n",
              "      <th>HomeOwnershipType</th>\n",
              "      <th>AppliedAmount</th>\n",
              "      <th>IncomeTotal</th>\n",
              "      <th>Rating_V2</th>\n",
              "    </tr>\n",
              "  </thead>\n",
              "  <tbody>\n",
              "    <tr>\n",
              "      <th>0</th>\n",
              "      <td>71936.0</td>\n",
              "      <td>195517.0</td>\n",
              "      <td>0.0</td>\n",
              "      <td>-0.270029</td>\n",
              "      <td>1.020334</td>\n",
              "      <td>0.859737</td>\n",
              "      <td>0.139244</td>\n",
              "      <td>0.680326</td>\n",
              "      <td>0.707131</td>\n",
              "      <td>3.500284</td>\n",
              "      <td>1.413017</td>\n",
              "      <td>-0.799393</td>\n",
              "      <td>-0.245065</td>\n",
              "      <td>-0.173414</td>\n",
              "      <td>0</td>\n",
              "    </tr>\n",
              "    <tr>\n",
              "      <th>1</th>\n",
              "      <td>227690.0</td>\n",
              "      <td>205590.0</td>\n",
              "      <td>0.0</td>\n",
              "      <td>-0.270029</td>\n",
              "      <td>0.777606</td>\n",
              "      <td>0.859737</td>\n",
              "      <td>0.402293</td>\n",
              "      <td>1.021891</td>\n",
              "      <td>-1.511131</td>\n",
              "      <td>2.929770</td>\n",
              "      <td>1.709284</td>\n",
              "      <td>-0.799393</td>\n",
              "      <td>0.128426</td>\n",
              "      <td>-0.106232</td>\n",
              "      <td>1</td>\n",
              "    </tr>\n",
              "    <tr>\n",
              "      <th>2</th>\n",
              "      <td>94698.0</td>\n",
              "      <td>189172.0</td>\n",
              "      <td>0.0</td>\n",
              "      <td>1.609677</td>\n",
              "      <td>0.292152</td>\n",
              "      <td>-0.752321</td>\n",
              "      <td>1.539476</td>\n",
              "      <td>1.021891</td>\n",
              "      <td>0.707131</td>\n",
              "      <td>2.929770</td>\n",
              "      <td>1.442022</td>\n",
              "      <td>1.626506</td>\n",
              "      <td>3.385271</td>\n",
              "      <td>-0.069319</td>\n",
              "      <td>2</td>\n",
              "    </tr>\n",
              "    <tr>\n",
              "      <th>3</th>\n",
              "      <td>94639.0</td>\n",
              "      <td>187079.0</td>\n",
              "      <td>0.0</td>\n",
              "      <td>-0.270029</td>\n",
              "      <td>0.130333</td>\n",
              "      <td>-0.752321</td>\n",
              "      <td>0.256605</td>\n",
              "      <td>0.680326</td>\n",
              "      <td>-0.032290</td>\n",
              "      <td>1.788743</td>\n",
              "      <td>0.105712</td>\n",
              "      <td>-0.452836</td>\n",
              "      <td>-0.511845</td>\n",
              "      <td>-0.110785</td>\n",
              "      <td>3</td>\n",
              "    </tr>\n",
              "    <tr>\n",
              "      <th>4</th>\n",
              "      <td>32037.0</td>\n",
              "      <td>209809.0</td>\n",
              "      <td>0.0</td>\n",
              "      <td>3.489382</td>\n",
              "      <td>-0.516939</td>\n",
              "      <td>0.859737</td>\n",
              "      <td>-0.398995</td>\n",
              "      <td>2.388153</td>\n",
              "      <td>0.707131</td>\n",
              "      <td>3.500284</td>\n",
              "      <td>2.086352</td>\n",
              "      <td>-0.106279</td>\n",
              "      <td>-0.471294</td>\n",
              "      <td>-0.131210</td>\n",
              "      <td>3</td>\n",
              "    </tr>\n",
              "    <tr>\n",
              "      <th>...</th>\n",
              "      <td>...</td>\n",
              "      <td>...</td>\n",
              "      <td>...</td>\n",
              "      <td>...</td>\n",
              "      <td>...</td>\n",
              "      <td>...</td>\n",
              "      <td>...</td>\n",
              "      <td>...</td>\n",
              "      <td>...</td>\n",
              "      <td>...</td>\n",
              "      <td>...</td>\n",
              "      <td>...</td>\n",
              "      <td>...</td>\n",
              "      <td>...</td>\n",
              "      <td>...</td>\n",
              "    </tr>\n",
              "    <tr>\n",
              "      <th>179230</th>\n",
              "      <td>233682.0</td>\n",
              "      <td>177914.0</td>\n",
              "      <td>0.0</td>\n",
              "      <td>-0.270029</td>\n",
              "      <td>-0.193303</td>\n",
              "      <td>0.859737</td>\n",
              "      <td>0.972908</td>\n",
              "      <td>2.046587</td>\n",
              "      <td>-1.511131</td>\n",
              "      <td>1.788743</td>\n",
              "      <td>0.246594</td>\n",
              "      <td>-0.106279</td>\n",
              "      <td>-0.298421</td>\n",
              "      <td>0.066029</td>\n",
              "      <td>3</td>\n",
              "    </tr>\n",
              "    <tr>\n",
              "      <th>179231</th>\n",
              "      <td>6595.0</td>\n",
              "      <td>169463.0</td>\n",
              "      <td>0.0</td>\n",
              "      <td>-0.270029</td>\n",
              "      <td>-0.274212</td>\n",
              "      <td>-0.752321</td>\n",
              "      <td>4.384455</td>\n",
              "      <td>-0.002805</td>\n",
              "      <td>0.707131</td>\n",
              "      <td>1.788743</td>\n",
              "      <td>4.415745</td>\n",
              "      <td>0.240278</td>\n",
              "      <td>2.023628</td>\n",
              "      <td>0.050280</td>\n",
              "      <td>5</td>\n",
              "    </tr>\n",
              "    <tr>\n",
              "      <th>179232</th>\n",
              "      <td>38469.0</td>\n",
              "      <td>178862.0</td>\n",
              "      <td>0.0</td>\n",
              "      <td>-0.270029</td>\n",
              "      <td>-0.274212</td>\n",
              "      <td>-0.752321</td>\n",
              "      <td>-0.297822</td>\n",
              "      <td>2.388153</td>\n",
              "      <td>-1.511131</td>\n",
              "      <td>1.788743</td>\n",
              "      <td>1.678208</td>\n",
              "      <td>1.626506</td>\n",
              "      <td>-0.471294</td>\n",
              "      <td>-0.026254</td>\n",
              "      <td>3</td>\n",
              "    </tr>\n",
              "    <tr>\n",
              "      <th>179233</th>\n",
              "      <td>106953.0</td>\n",
              "      <td>194896.0</td>\n",
              "      <td>0.0</td>\n",
              "      <td>-0.270029</td>\n",
              "      <td>1.424879</td>\n",
              "      <td>0.859737</td>\n",
              "      <td>1.782291</td>\n",
              "      <td>2.046587</td>\n",
              "      <td>-1.511131</td>\n",
              "      <td>1.788743</td>\n",
              "      <td>1.348101</td>\n",
              "      <td>-0.799393</td>\n",
              "      <td>0.128426</td>\n",
              "      <td>-0.173906</td>\n",
              "      <td>5</td>\n",
              "    </tr>\n",
              "    <tr>\n",
              "      <th>179234</th>\n",
              "      <td>71309.0</td>\n",
              "      <td>261810.0</td>\n",
              "      <td>1.0</td>\n",
              "      <td>-0.270029</td>\n",
              "      <td>1.910334</td>\n",
              "      <td>-0.752321</td>\n",
              "      <td>-0.645857</td>\n",
              "      <td>2.046587</td>\n",
              "      <td>0.707131</td>\n",
              "      <td>2.359256</td>\n",
              "      <td>3.505534</td>\n",
              "      <td>-0.799393</td>\n",
              "      <td>-0.597214</td>\n",
              "      <td>-0.110293</td>\n",
              "      <td>7</td>\n",
              "    </tr>\n",
              "  </tbody>\n",
              "</table>\n",
              "<p>179235 rows × 15 columns</p>\n",
              "</div>\n",
              "      <button class=\"colab-df-convert\" onclick=\"convertToInteractive('df-ced6dd82-bce6-4748-b262-c0209f95cfc1')\"\n",
              "              title=\"Convert this dataframe to an interactive table.\"\n",
              "              style=\"display:none;\">\n",
              "        \n",
              "  <svg xmlns=\"http://www.w3.org/2000/svg\" height=\"24px\"viewBox=\"0 0 24 24\"\n",
              "       width=\"24px\">\n",
              "    <path d=\"M0 0h24v24H0V0z\" fill=\"none\"/>\n",
              "    <path d=\"M18.56 5.44l.94 2.06.94-2.06 2.06-.94-2.06-.94-.94-2.06-.94 2.06-2.06.94zm-11 1L8.5 8.5l.94-2.06 2.06-.94-2.06-.94L8.5 2.5l-.94 2.06-2.06.94zm10 10l.94 2.06.94-2.06 2.06-.94-2.06-.94-.94-2.06-.94 2.06-2.06.94z\"/><path d=\"M17.41 7.96l-1.37-1.37c-.4-.4-.92-.59-1.43-.59-.52 0-1.04.2-1.43.59L10.3 9.45l-7.72 7.72c-.78.78-.78 2.05 0 2.83L4 21.41c.39.39.9.59 1.41.59.51 0 1.02-.2 1.41-.59l7.78-7.78 2.81-2.81c.8-.78.8-2.07 0-2.86zM5.41 20L4 18.59l7.72-7.72 1.47 1.35L5.41 20z\"/>\n",
              "  </svg>\n",
              "      </button>\n",
              "      \n",
              "  <style>\n",
              "    .colab-df-container {\n",
              "      display:flex;\n",
              "      flex-wrap:wrap;\n",
              "      gap: 12px;\n",
              "    }\n",
              "\n",
              "    .colab-df-convert {\n",
              "      background-color: #E8F0FE;\n",
              "      border: none;\n",
              "      border-radius: 50%;\n",
              "      cursor: pointer;\n",
              "      display: none;\n",
              "      fill: #1967D2;\n",
              "      height: 32px;\n",
              "      padding: 0 0 0 0;\n",
              "      width: 32px;\n",
              "    }\n",
              "\n",
              "    .colab-df-convert:hover {\n",
              "      background-color: #E2EBFA;\n",
              "      box-shadow: 0px 1px 2px rgba(60, 64, 67, 0.3), 0px 1px 3px 1px rgba(60, 64, 67, 0.15);\n",
              "      fill: #174EA6;\n",
              "    }\n",
              "\n",
              "    [theme=dark] .colab-df-convert {\n",
              "      background-color: #3B4455;\n",
              "      fill: #D2E3FC;\n",
              "    }\n",
              "\n",
              "    [theme=dark] .colab-df-convert:hover {\n",
              "      background-color: #434B5C;\n",
              "      box-shadow: 0px 1px 3px 1px rgba(0, 0, 0, 0.15);\n",
              "      filter: drop-shadow(0px 1px 2px rgba(0, 0, 0, 0.3));\n",
              "      fill: #FFFFFF;\n",
              "    }\n",
              "  </style>\n",
              "\n",
              "      <script>\n",
              "        const buttonEl =\n",
              "          document.querySelector('#df-ced6dd82-bce6-4748-b262-c0209f95cfc1 button.colab-df-convert');\n",
              "        buttonEl.style.display =\n",
              "          google.colab.kernel.accessAllowed ? 'block' : 'none';\n",
              "\n",
              "        async function convertToInteractive(key) {\n",
              "          const element = document.querySelector('#df-ced6dd82-bce6-4748-b262-c0209f95cfc1');\n",
              "          const dataTable =\n",
              "            await google.colab.kernel.invokeFunction('convertToInteractive',\n",
              "                                                     [key], {});\n",
              "          if (!dataTable) return;\n",
              "\n",
              "          const docLinkHtml = 'Like what you see? Visit the ' +\n",
              "            '<a target=\"_blank\" href=https://colab.research.google.com/notebooks/data_table.ipynb>data table notebook</a>'\n",
              "            + ' to learn more about interactive tables.';\n",
              "          element.innerHTML = '';\n",
              "          dataTable['output_type'] = 'display_data';\n",
              "          await google.colab.output.renderOutput(dataTable, element);\n",
              "          const docLink = document.createElement('div');\n",
              "          docLink.innerHTML = docLinkHtml;\n",
              "          element.appendChild(docLink);\n",
              "        }\n",
              "      </script>\n",
              "    </div>\n",
              "  </div>\n",
              "  "
            ]
          },
          "metadata": {},
          "execution_count": 214
        }
      ]
    },
    {
      "cell_type": "code",
      "source": [
        "# all_data.to_csv('all_data.csv',index=False)\n",
        "# all_data['Rating_V2']"
      ],
      "metadata": {
        "id": "OsiBUkuTagh2"
      },
      "execution_count": null,
      "outputs": []
    },
    {
      "cell_type": "code",
      "source": [
        "all_data.isnull().values.any()"
      ],
      "metadata": {
        "colab": {
          "base_uri": "https://localhost:8080/"
        },
        "id": "n4F9lv279AlA",
        "outputId": "76d95bd9-8b5f-4b2a-811f-d8e99c704cfb"
      },
      "execution_count": null,
      "outputs": [
        {
          "output_type": "execute_result",
          "data": {
            "text/plain": [
              "False"
            ]
          },
          "metadata": {},
          "execution_count": 216
        }
      ]
    },
    {
      "cell_type": "code",
      "source": [
        "Y= all_data[\"Rating_V2\"]\n",
        "X= all_data.drop([\"Rating_V2\"],axis= 1)"
      ],
      "metadata": {
        "id": "-4Y9VV8H2ej4"
      },
      "execution_count": null,
      "outputs": []
    },
    {
      "cell_type": "markdown",
      "source": [
        "#Modelling Data with 80% Data Training & 20% Data Testing"
      ],
      "metadata": {
        "id": "FbXXcY2iWnI7"
      }
    },
    {
      "cell_type": "code",
      "source": [
        "# X_train, X2, Y_train, Y2 = train_test_split(X, Y, test_size=0.2, random_state=24)"
      ],
      "metadata": {
        "id": "Teru22CV2m5W"
      },
      "execution_count": null,
      "outputs": []
    },
    {
      "cell_type": "markdown",
      "source": [
        "#Modelling Data with 70% Data Training & 30% Data Testing"
      ],
      "metadata": {
        "id": "q5DH_3DXllAf"
      }
    },
    {
      "cell_type": "code",
      "source": [
        "X_train, X2, Y_train, Y2 = train_test_split(X, Y, test_size=0.3, random_state=24)"
      ],
      "metadata": {
        "id": "B6Om-8x3lPqM"
      },
      "execution_count": null,
      "outputs": []
    },
    {
      "cell_type": "markdown",
      "source": [
        "#Modelling Data With 60% Data Training & 40% Data Testing"
      ],
      "metadata": {
        "id": "j5j_Vtz2lr1k"
      }
    },
    {
      "cell_type": "code",
      "source": [
        "# X_train, X2, Y_train, Y2 = train_test_split(X, Y, test_size=0.4, random_state=24)"
      ],
      "metadata": {
        "id": "z5zBEgIMlygL"
      },
      "execution_count": null,
      "outputs": []
    },
    {
      "cell_type": "code",
      "source": [
        "sc = StandardScaler()\n",
        "X_train=sc.fit_transform(X_train)\n",
        "X2=sc.fit_transform(X2)"
      ],
      "metadata": {
        "id": "QhErv-NXp9ZW"
      },
      "execution_count": null,
      "outputs": []
    },
    {
      "cell_type": "code",
      "source": [
        "nb=GaussianNB()\n",
        "nb.fit(X_train, Y_train)"
      ],
      "metadata": {
        "colab": {
          "base_uri": "https://localhost:8080/",
          "height": 74
        },
        "id": "Zh2uJ1mU2udq",
        "outputId": "ed906d08-3b51-4e04-ca17-b65c8fac9ae0"
      },
      "execution_count": null,
      "outputs": [
        {
          "output_type": "execute_result",
          "data": {
            "text/plain": [
              "GaussianNB()"
            ],
            "text/html": [
              "<style>#sk-container-id-4 {color: black;background-color: white;}#sk-container-id-4 pre{padding: 0;}#sk-container-id-4 div.sk-toggleable {background-color: white;}#sk-container-id-4 label.sk-toggleable__label {cursor: pointer;display: block;width: 100%;margin-bottom: 0;padding: 0.3em;box-sizing: border-box;text-align: center;}#sk-container-id-4 label.sk-toggleable__label-arrow:before {content: \"▸\";float: left;margin-right: 0.25em;color: #696969;}#sk-container-id-4 label.sk-toggleable__label-arrow:hover:before {color: black;}#sk-container-id-4 div.sk-estimator:hover label.sk-toggleable__label-arrow:before {color: black;}#sk-container-id-4 div.sk-toggleable__content {max-height: 0;max-width: 0;overflow: hidden;text-align: left;background-color: #f0f8ff;}#sk-container-id-4 div.sk-toggleable__content pre {margin: 0.2em;color: black;border-radius: 0.25em;background-color: #f0f8ff;}#sk-container-id-4 input.sk-toggleable__control:checked~div.sk-toggleable__content {max-height: 200px;max-width: 100%;overflow: auto;}#sk-container-id-4 input.sk-toggleable__control:checked~label.sk-toggleable__label-arrow:before {content: \"▾\";}#sk-container-id-4 div.sk-estimator input.sk-toggleable__control:checked~label.sk-toggleable__label {background-color: #d4ebff;}#sk-container-id-4 div.sk-label input.sk-toggleable__control:checked~label.sk-toggleable__label {background-color: #d4ebff;}#sk-container-id-4 input.sk-hidden--visually {border: 0;clip: rect(1px 1px 1px 1px);clip: rect(1px, 1px, 1px, 1px);height: 1px;margin: -1px;overflow: hidden;padding: 0;position: absolute;width: 1px;}#sk-container-id-4 div.sk-estimator {font-family: monospace;background-color: #f0f8ff;border: 1px dotted black;border-radius: 0.25em;box-sizing: border-box;margin-bottom: 0.5em;}#sk-container-id-4 div.sk-estimator:hover {background-color: #d4ebff;}#sk-container-id-4 div.sk-parallel-item::after {content: \"\";width: 100%;border-bottom: 1px solid gray;flex-grow: 1;}#sk-container-id-4 div.sk-label:hover label.sk-toggleable__label {background-color: #d4ebff;}#sk-container-id-4 div.sk-serial::before {content: \"\";position: absolute;border-left: 1px solid gray;box-sizing: border-box;top: 0;bottom: 0;left: 50%;z-index: 0;}#sk-container-id-4 div.sk-serial {display: flex;flex-direction: column;align-items: center;background-color: white;padding-right: 0.2em;padding-left: 0.2em;position: relative;}#sk-container-id-4 div.sk-item {position: relative;z-index: 1;}#sk-container-id-4 div.sk-parallel {display: flex;align-items: stretch;justify-content: center;background-color: white;position: relative;}#sk-container-id-4 div.sk-item::before, #sk-container-id-4 div.sk-parallel-item::before {content: \"\";position: absolute;border-left: 1px solid gray;box-sizing: border-box;top: 0;bottom: 0;left: 50%;z-index: -1;}#sk-container-id-4 div.sk-parallel-item {display: flex;flex-direction: column;z-index: 1;position: relative;background-color: white;}#sk-container-id-4 div.sk-parallel-item:first-child::after {align-self: flex-end;width: 50%;}#sk-container-id-4 div.sk-parallel-item:last-child::after {align-self: flex-start;width: 50%;}#sk-container-id-4 div.sk-parallel-item:only-child::after {width: 0;}#sk-container-id-4 div.sk-dashed-wrapped {border: 1px dashed gray;margin: 0 0.4em 0.5em 0.4em;box-sizing: border-box;padding-bottom: 0.4em;background-color: white;}#sk-container-id-4 div.sk-label label {font-family: monospace;font-weight: bold;display: inline-block;line-height: 1.2em;}#sk-container-id-4 div.sk-label-container {text-align: center;}#sk-container-id-4 div.sk-container {/* jupyter's `normalize.less` sets `[hidden] { display: none; }` but bootstrap.min.css set `[hidden] { display: none !important; }` so we also need the `!important` here to be able to override the default hidden behavior on the sphinx rendered scikit-learn.org. See: https://github.com/scikit-learn/scikit-learn/issues/21755 */display: inline-block !important;position: relative;}#sk-container-id-4 div.sk-text-repr-fallback {display: none;}</style><div id=\"sk-container-id-4\" class=\"sk-top-container\"><div class=\"sk-text-repr-fallback\"><pre>GaussianNB()</pre><b>In a Jupyter environment, please rerun this cell to show the HTML representation or trust the notebook. <br />On GitHub, the HTML representation is unable to render, please try loading this page with nbviewer.org.</b></div><div class=\"sk-container\" hidden><div class=\"sk-item\"><div class=\"sk-estimator sk-toggleable\"><input class=\"sk-toggleable__control sk-hidden--visually\" id=\"sk-estimator-id-4\" type=\"checkbox\" checked><label for=\"sk-estimator-id-4\" class=\"sk-toggleable__label sk-toggleable__label-arrow\">GaussianNB</label><div class=\"sk-toggleable__content\"><pre>GaussianNB()</pre></div></div></div></div></div>"
            ]
          },
          "metadata": {},
          "execution_count": 222
        }
      ]
    },
    {
      "cell_type": "code",
      "source": [
        "Y_pred = nb.predict(X2)"
      ],
      "metadata": {
        "id": "17WKwnh73NB6"
      },
      "execution_count": null,
      "outputs": []
    },
    {
      "cell_type": "code",
      "source": [
        "print(\"y_test shape:\", Y2.shape)"
      ],
      "metadata": {
        "colab": {
          "base_uri": "https://localhost:8080/"
        },
        "id": "6rYlOq973WdL",
        "outputId": "c6949587-31d0-48fd-a64e-e5f2d0cd3f56"
      },
      "execution_count": null,
      "outputs": [
        {
          "output_type": "stream",
          "name": "stdout",
          "text": [
            "y_test shape: (53771,)\n"
          ]
        }
      ]
    },
    {
      "cell_type": "code",
      "source": [
        "print(\"y_pred shape:\", Y_pred.shape)"
      ],
      "metadata": {
        "colab": {
          "base_uri": "https://localhost:8080/"
        },
        "id": "QGJ5Hqel3Z2n",
        "outputId": "d0023044-923a-4440-a0d3-1bf99546de63"
      },
      "execution_count": null,
      "outputs": [
        {
          "output_type": "stream",
          "name": "stdout",
          "text": [
            "y_pred shape: (53771,)\n"
          ]
        }
      ]
    },
    {
      "cell_type": "code",
      "source": [
        "print(Y2)"
      ],
      "metadata": {
        "colab": {
          "base_uri": "https://localhost:8080/"
        },
        "id": "Ry5CD08k3dpD",
        "outputId": "8df45587-591e-44b5-b089-469127683c55"
      },
      "execution_count": null,
      "outputs": [
        {
          "output_type": "stream",
          "name": "stdout",
          "text": [
            "110506    3\n",
            "59919     3\n",
            "97378     3\n",
            "79494     3\n",
            "171930    3\n",
            "         ..\n",
            "24953     3\n",
            "29872     3\n",
            "130255    3\n",
            "87137     3\n",
            "160632    3\n",
            "Name: Rating_V2, Length: 53771, dtype: Int64\n"
          ]
        }
      ]
    },
    {
      "cell_type": "code",
      "source": [
        "print(Y_pred)"
      ],
      "metadata": {
        "colab": {
          "base_uri": "https://localhost:8080/"
        },
        "id": "yCxLzhOQ3jZw",
        "outputId": "9ee370ea-3e13-45e7-8065-d035bfc7595a"
      },
      "execution_count": null,
      "outputs": [
        {
          "output_type": "stream",
          "name": "stdout",
          "text": [
            "[3. 3. 3. ... 3. 3. 3.]\n"
          ]
        }
      ]
    },
    {
      "cell_type": "markdown",
      "source": [
        "#Mean Squared Error"
      ],
      "metadata": {
        "id": "4u4mxB8aWu5s"
      }
    },
    {
      "cell_type": "code",
      "source": [
        "mse=mean_squared_error(Y2,Y_pred)\n",
        "mse"
      ],
      "metadata": {
        "colab": {
          "base_uri": "https://localhost:8080/"
        },
        "id": "qs0QbAOR3rub",
        "outputId": "072dfa40-e75e-45c2-f950-0ecd542bc601"
      },
      "execution_count": null,
      "outputs": [
        {
          "output_type": "execute_result",
          "data": {
            "text/plain": [
              "1.4972940804522885"
            ]
          },
          "metadata": {},
          "execution_count": 228
        }
      ]
    },
    {
      "cell_type": "markdown",
      "source": [
        "#Accuracy Score and Confusion Matrix"
      ],
      "metadata": {
        "id": "UiHfHJwXWzkb"
      }
    },
    {
      "cell_type": "code",
      "source": [
        "cm = confusion_matrix(Y2, Y_pred)\n",
        "ac = accuracy_score(Y2, Y_pred)"
      ],
      "metadata": {
        "id": "BdHzBGb73vwB"
      },
      "execution_count": null,
      "outputs": []
    },
    {
      "cell_type": "code",
      "source": [
        "ac"
      ],
      "metadata": {
        "colab": {
          "base_uri": "https://localhost:8080/"
        },
        "id": "SLsQdy9t3-O0",
        "outputId": "525f5216-1fc2-4dbd-ff39-b6d1fefbc54b"
      },
      "execution_count": null,
      "outputs": [
        {
          "output_type": "execute_result",
          "data": {
            "text/plain": [
              "0.8828550705770769"
            ]
          },
          "metadata": {},
          "execution_count": 230
        }
      ]
    },
    {
      "cell_type": "code",
      "source": [
        "cm"
      ],
      "metadata": {
        "colab": {
          "base_uri": "https://localhost:8080/"
        },
        "id": "qrtNvshL3-9f",
        "outputId": "19dd2bbc-3996-4ac3-d272-5665e9adf0ad"
      },
      "execution_count": null,
      "outputs": [
        {
          "output_type": "execute_result",
          "data": {
            "text/plain": [
              "array([[  474,   236,     0,     0,   158,    10,    18,   171],\n",
              "       [  258,   225,     0,     0,    45,     5,     8,   230],\n",
              "       [   55,    49,     0,     0,     2,     6,     1,   152],\n",
              "       [  964,   173,     0, 46262,   978,    59,    56,   159],\n",
              "       [  307,   104,     0,     0,   334,    27,    23,    40],\n",
              "       [  473,   207,     0,     0,   240,    17,    12,   114],\n",
              "       [  367,   136,     0,     0,   331,    28,    25,    62],\n",
              "       [   16,    13,     0,     0,     1,     2,     3,   135]])"
            ]
          },
          "metadata": {},
          "execution_count": 231
        }
      ]
    },
    {
      "cell_type": "code",
      "source": [
        "print(classification_report(Y2, Y_pred))"
      ],
      "metadata": {
        "colab": {
          "base_uri": "https://localhost:8080/"
        },
        "id": "yr_5O5NF4L6C",
        "outputId": "92ac8d2d-7ef7-494e-9084-bac06ac8a52d"
      },
      "execution_count": null,
      "outputs": [
        {
          "output_type": "stream",
          "name": "stderr",
          "text": [
            "/usr/local/lib/python3.10/dist-packages/sklearn/metrics/_classification.py:1344: UndefinedMetricWarning: Precision and F-score are ill-defined and being set to 0.0 in labels with no predicted samples. Use `zero_division` parameter to control this behavior.\n",
            "  _warn_prf(average, modifier, msg_start, len(result))\n",
            "/usr/local/lib/python3.10/dist-packages/sklearn/metrics/_classification.py:1344: UndefinedMetricWarning: Precision and F-score are ill-defined and being set to 0.0 in labels with no predicted samples. Use `zero_division` parameter to control this behavior.\n",
            "  _warn_prf(average, modifier, msg_start, len(result))\n"
          ]
        },
        {
          "output_type": "stream",
          "name": "stdout",
          "text": [
            "              precision    recall  f1-score   support\n",
            "\n",
            "         0.0       0.16      0.44      0.24      1067\n",
            "         1.0       0.20      0.29      0.24       771\n",
            "         2.0       0.00      0.00      0.00       265\n",
            "         3.0       1.00      0.95      0.97     48651\n",
            "         4.0       0.16      0.40      0.23       835\n",
            "         5.0       0.11      0.02      0.03      1063\n",
            "         6.0       0.17      0.03      0.05       949\n",
            "         7.0       0.13      0.79      0.22       170\n",
            "\n",
            "    accuracy                           0.88     53771\n",
            "   macro avg       0.24      0.37      0.25     53771\n",
            "weighted avg       0.92      0.88      0.90     53771\n",
            "\n"
          ]
        },
        {
          "output_type": "stream",
          "name": "stderr",
          "text": [
            "/usr/local/lib/python3.10/dist-packages/sklearn/metrics/_classification.py:1344: UndefinedMetricWarning: Precision and F-score are ill-defined and being set to 0.0 in labels with no predicted samples. Use `zero_division` parameter to control this behavior.\n",
            "  _warn_prf(average, modifier, msg_start, len(result))\n"
          ]
        }
      ]
    },
    {
      "cell_type": "code",
      "source": [
        "Y_gnb_score = nb.predict_proba(X2)\n",
        "Y_gnb_score"
      ],
      "metadata": {
        "colab": {
          "base_uri": "https://localhost:8080/"
        },
        "id": "KLxnl2YyGELX",
        "outputId": "bf61675b-e929-41f3-b795-c23db39c9be0"
      },
      "execution_count": null,
      "outputs": [
        {
          "output_type": "execute_result",
          "data": {
            "text/plain": [
              "array([[0.00000000e+000, 9.94916827e-285, 0.00000000e+000, ...,\n",
              "        2.91668426e-042, 2.77816148e-044, 2.53455676e-321],\n",
              "       [0.00000000e+000, 9.94916827e-285, 0.00000000e+000, ...,\n",
              "        2.91668426e-042, 2.77816148e-044, 2.53455676e-321],\n",
              "       [0.00000000e+000, 9.94916827e-285, 0.00000000e+000, ...,\n",
              "        2.91668426e-042, 2.77816148e-044, 2.53455676e-321],\n",
              "       ...,\n",
              "       [0.00000000e+000, 9.94916827e-285, 0.00000000e+000, ...,\n",
              "        2.91668426e-042, 2.77816148e-044, 2.53455676e-321],\n",
              "       [0.00000000e+000, 9.94916827e-285, 0.00000000e+000, ...,\n",
              "        2.91668426e-042, 2.77816148e-044, 2.53455676e-321],\n",
              "       [0.00000000e+000, 9.94916827e-285, 0.00000000e+000, ...,\n",
              "        2.91668426e-042, 2.77816148e-044, 2.53455676e-321]])"
            ]
          },
          "metadata": {},
          "execution_count": 233
        }
      ]
    },
    {
      "cell_type": "code",
      "source": [
        "# fpr_gnb, tpr_gnb, thresholds_gnb = roc_curve(Y2, Y_gnb_score[:, 1])"
      ],
      "metadata": {
        "id": "8_36iV2HMILs"
      },
      "execution_count": null,
      "outputs": []
    },
    {
      "cell_type": "markdown",
      "source": [
        "#Modelling Using Decision Tree"
      ],
      "metadata": {
        "id": "WIq-6go-Xy9_"
      }
    },
    {
      "cell_type": "code",
      "source": [
        "model = DecisionTreeClassifier(random_state=4)\n",
        "model = model.fit(X_train,Y_train)"
      ],
      "metadata": {
        "id": "8-Johnvmlscb"
      },
      "execution_count": null,
      "outputs": []
    },
    {
      "cell_type": "code",
      "source": [
        "Y_pred=model.predict(X2)"
      ],
      "metadata": {
        "id": "aJ_BaivllvDe"
      },
      "execution_count": null,
      "outputs": []
    },
    {
      "cell_type": "code",
      "source": [
        "ac = accuracy_score(Y2, Y_pred)"
      ],
      "metadata": {
        "id": "N8CfjOTKslxt"
      },
      "execution_count": null,
      "outputs": []
    },
    {
      "cell_type": "code",
      "source": [
        "ac"
      ],
      "metadata": {
        "colab": {
          "base_uri": "https://localhost:8080/"
        },
        "id": "n9dAMgi2sovp",
        "outputId": "0322f0f0-62f2-49f3-bb4d-c1b884e6ab82"
      },
      "execution_count": null,
      "outputs": [
        {
          "output_type": "execute_result",
          "data": {
            "text/plain": [
              "0.9053579066783211"
            ]
          },
          "metadata": {},
          "execution_count": 238
        }
      ]
    },
    {
      "cell_type": "code",
      "source": [
        "cm = confusion_matrix(Y2, Y_pred)"
      ],
      "metadata": {
        "id": "2wOV2dDss3jj"
      },
      "execution_count": null,
      "outputs": []
    },
    {
      "cell_type": "code",
      "source": [
        "cm"
      ],
      "metadata": {
        "colab": {
          "base_uri": "https://localhost:8080/"
        },
        "id": "4xGnbzH1s40w",
        "outputId": "f84a3300-8eef-4b09-9cff-fcf2640bfe71"
      },
      "execution_count": null,
      "outputs": [
        {
          "output_type": "execute_result",
          "data": {
            "text/plain": [
              "array([[  225,   168,    37,   134,    99,   218,   170,    16],\n",
              "       [  192,   217,    46,    74,    48,   110,    60,    24],\n",
              "       [   47,    70,    43,    20,     8,    39,    15,    23],\n",
              "       [  180,   105,    47, 47533,   304,   184,   282,    16],\n",
              "       [   91,    53,    11,   208,   184,   136,   148,     4],\n",
              "       [  197,   113,    21,   164,   135,   230,   192,    11],\n",
              "       [  135,    75,    15,   210,   142,   144,   222,     6],\n",
              "       [   24,    41,    34,    12,     8,    19,     4,    28]])"
            ]
          },
          "metadata": {},
          "execution_count": 240
        }
      ]
    },
    {
      "cell_type": "code",
      "source": [
        "print(classification_report(Y2, Y_pred))"
      ],
      "metadata": {
        "colab": {
          "base_uri": "https://localhost:8080/"
        },
        "id": "mZ1yYGNlyv38",
        "outputId": "8fde02b3-0796-4775-9d5f-b35cc688c87a"
      },
      "execution_count": null,
      "outputs": [
        {
          "output_type": "stream",
          "name": "stdout",
          "text": [
            "              precision    recall  f1-score   support\n",
            "\n",
            "         0.0       0.21      0.21      0.21      1067\n",
            "         1.0       0.26      0.28      0.27       771\n",
            "         2.0       0.17      0.16      0.17       265\n",
            "         3.0       0.98      0.98      0.98     48651\n",
            "         4.0       0.20      0.22      0.21       835\n",
            "         5.0       0.21      0.22      0.21      1063\n",
            "         6.0       0.20      0.23      0.22       949\n",
            "         7.0       0.22      0.16      0.19       170\n",
            "\n",
            "    accuracy                           0.91     53771\n",
            "   macro avg       0.31      0.31      0.31     53771\n",
            "weighted avg       0.91      0.91      0.91     53771\n",
            "\n"
          ]
        }
      ]
    },
    {
      "cell_type": "code",
      "source": [
        "# feature_cols= list(X.columns)\n",
        "# X.columns=feature_cols"
      ],
      "metadata": {
        "id": "pi_8f9kKvUB_"
      },
      "execution_count": null,
      "outputs": []
    },
    {
      "cell_type": "code",
      "source": [
        "# dot_data = StringIO()\n",
        "# export_graphviz(model, out_file=dot_data,\n",
        "#                 filled=True, rounded=True,\n",
        "#                 special_characters=True,feature_names = feature_cols,class_names=['0', '1', '2', '3', '4', '5', '6', '7'])\n",
        "# graph = pydotplus.graph_from_dot_data(dot_data.getvalue())\n",
        "# Image(graph.create_png())"
      ],
      "metadata": {
        "id": "VnU2XYyblxju"
      },
      "execution_count": null,
      "outputs": []
    }
  ]
}